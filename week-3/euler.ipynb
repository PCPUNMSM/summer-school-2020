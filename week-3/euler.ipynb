{
 "cells": [
  {
   "cell_type": "code",
   "execution_count": 1,
   "metadata": {},
   "outputs": [],
   "source": [
    "import numpy as np\n",
    "import matplotlib.pyplot as plt\n",
    "%matplotlib inline"
   ]
  },
  {
   "cell_type": "code",
   "execution_count": 4,
   "metadata": {},
   "outputs": [],
   "source": [
    "def euler(a, b, h, f, y0):\n",
    "    #h = (b - a)/N\n",
    "    N = int((b - a)/h)\n",
    "    \n",
    "    x = np.linspace(a, b, N + 1)\n",
    "    \n",
    "    y = np.zeros(N + 1)\n",
    "    \n",
    "    y[0] = y0 \n",
    "    \n",
    "    for i in range(N):\n",
    "        y[i + 1] = y[i] + h*f(x[i], y[i])\n",
    "    \n",
    "    return y"
   ]
  },
  {
   "cell_type": "code",
   "execution_count": 5,
   "metadata": {},
   "outputs": [],
   "source": [
    "def f(x, y):\n",
    "    f = -20*y + 7*np.exp(-0.5*x)\n",
    "    return f"
   ]
  },
  {
   "cell_type": "code",
   "execution_count": 8,
   "metadata": {},
   "outputs": [],
   "source": [
    "a = 0.0\n",
    "b = 1.0\n",
    "h = 0.01\n",
    "y0 = 5.0\n",
    "\n",
    "N = int((b - a)/h)\n",
    "\n",
    "x = np.linspace(a, b, N + 1)\n",
    "y = euler(a, b, h, f, y0)\n",
    "\n",
    "xsol = np.linspace(a, b, 100)\n",
    "ysol = 5.0*np.exp(-20.0*xsol) + (7.0/19.5)*(np.exp(-0.5*xsol) - np.exp(-20.0*xsol))"
   ]
  },
  {
   "cell_type": "code",
   "execution_count": 9,
   "metadata": {},
   "outputs": [
    {
     "data": {
      "image/png": "[encoded data removed]",
      "text/plain": [
       "<Figure size 432x288 with 1 Axes>"
      ]
     },
     "metadata": {
      "needs_background": "light"
     },
     "output_type": "display_data"
    }
   ],
   "source": [
    "plt.plot(x, y)\n",
    "plt.plot(xsol, ysol)\n",
    "plt.legend(['euler', 'exacto'])\n",
    "plt.show()"
   ]
  },
  {
   "cell_type": "code",
   "execution_count": null,
   "metadata": {},
   "outputs": [],
   "source": []
  }
 ],
 "metadata": {
  "kernelspec": {
   "display_name": "Python 3",
   "language": "python",
   "name": "python3"
  },
  "language_info": {
   "codemirror_mode": {
    "name": "ipython",
    "version": 3
   },
   "file_extension": ".py",
   "mimetype": "text/x-python",
   "name": "python",
   "nbconvert_exporter": "python",
   "pygments_lexer": "ipython3",
   "version": "3.7.3"
  }
 },
 "nbformat": 4,
 "nbformat_minor": 4
}
