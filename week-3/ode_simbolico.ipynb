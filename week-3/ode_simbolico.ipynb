{
 "cells": [
  {
   "cell_type": "markdown",
   "metadata": {},
   "source": [
    "# Ecuaciones diferenciales ordinarias"
   ]
  },
  {
   "cell_type": "markdown",
   "metadata": {},
   "source": [
    "Erwin Renzo Franco Diaz"
   ]
  },
  {
   "cell_type": "markdown",
   "metadata": {},
   "source": [
    "Las ecuaciones diferenciales son parte fundamental de la física. Muchas leyes físicas como la segunda ley de Newton o las ecuaciones de Maxwell se expresan de esta manera, por lo que aprender resolverlas es de suma importancia. En esta sesión aprenderemos algunos métodos simbólicos y numéricos que ofrecen ciertos paquetes en Python para poder obtener la solución a ecuaciones diferenciales ordinarias. Primero veremos como resolverlas de manera simbólica usando el paquete $\\texttt{sympy}$."
   ]
  },
  {
   "cell_type": "markdown",
   "metadata": {},
   "source": [
    "## Decaimiento radioactivo"
   ]
  },
  {
   "cell_type": "markdown",
   "metadata": {},
   "source": [
    "Los núcleos radioactivos decaen de acuerdo a la ley\n",
    "\n",
    "$$\n",
    "\\frac{dN}{dt} = - \\lambda N\n",
    "$$\n",
    "\n",
    "donde $N$ es la concentración de los nucleidos en el tiempo $t$. \n",
    "\n",
    "La solución a esta ecuación es una exponencial que decae. Si en $t = 0$ se tiene una concentración inicial $N(0) = N_0$ \n",
    "\n",
    "$$\n",
    "N = N_0 e^{-\\lambda t}.\n",
    "$$"
   ]
  },
  {
   "cell_type": "code",
   "execution_count": 2,
   "metadata": {},
   "outputs": [],
   "source": [
    "import sympy as sp\n",
    "import numpy as np\n",
    "import matplotlib.pyplot as plt\n",
    "%matplotlib inline"
   ]
  },
  {
   "cell_type": "code",
   "execution_count": 56,
   "metadata": {},
   "outputs": [
    {
     "data": {
      "text/latex": [
       "$\\displaystyle \\frac{d}{d t} N{\\left(t \\right)} = - \\lambda N{\\left(t \\right)}$"
      ],
      "text/plain": [
       "Eq(Derivative(N(t), t), -lambda*N(t))"
      ]
     },
     "execution_count": 56,
     "metadata": {},
     "output_type": "execute_result"
    }
   ],
   "source": [
    "t = sp.symbols('t', real = True)\n",
    "N = sp.Function('N', real = True, positive = True)(t)\n",
    "l = sp.symbols('lambda', real = True, positive = True)\n",
    "\n",
    "#sin condiciones iniciales\n",
    "eq = sp.Eq(sp.diff(N),  -l*N)\n",
    "eq"
   ]
  },
  {
   "cell_type": "code",
   "execution_count": 57,
   "metadata": {},
   "outputs": [
    {
     "data": {
      "text/latex": [
       "$\\displaystyle N{\\left(t \\right)} = C_{1} e^{- \\lambda t}$"
      ],
      "text/plain": [
       "Eq(N(t), C1*exp(-lambda*t))"
      ]
     },
     "execution_count": 57,
     "metadata": {},
     "output_type": "execute_result"
    }
   ],
   "source": [
    "sol = sp.dsolve(eq, N)\n",
    "sol"
   ]
  },
  {
   "cell_type": "code",
   "execution_count": 88,
   "metadata": {},
   "outputs": [
    {
     "data": {
      "text/latex": [
       "$\\displaystyle N{\\left(t \\right)} = N_{0} e^{- \\lambda t}$"
      ],
      "text/plain": [
       "Eq(N(t), N_0*exp(-lambda*t))"
      ]
     },
     "execution_count": 88,
     "metadata": {},
     "output_type": "execute_result"
    }
   ],
   "source": [
    "#con condiciones iniciales\n",
    "N_0 = sp.symbols('N_0', positive = True)\n",
    "sol_ci = sp.dsolve(eq, N, ics = {N.subs(t, 0): N_0})\n",
    "sol_ci"
   ]
  },
  {
   "cell_type": "code",
   "execution_count": 89,
   "metadata": {},
   "outputs": [],
   "source": [
    "#hacemos que N sea una funcion numerica para graficarla\n",
    "l_num = 0.2\n",
    "N0_num = 1.0e5\n",
    "\n",
    "N_num = sp.lambdify(t, sol_ci.subs([(l, l_num), (N_0, N0_num)]).rhs, 'numpy')"
   ]
  },
  {
   "cell_type": "code",
   "execution_count": 60,
   "metadata": {},
   "outputs": [
    {
     "data": {
      "text/plain": [
       "[<matplotlib.lines.Line2D at 0x7fec04b58d30>]"
      ]
     },
     "execution_count": 60,
     "metadata": {},
     "output_type": "execute_result"
    },
    {
     "data": {
      "image/png": "[encoded data removed]",
      "text/plain": [
       "<Figure size 432x288 with 1 Axes>"
      ]
     },
     "metadata": {
      "needs_background": "light"
     },
     "output_type": "display_data"
    }
   ],
   "source": [
    "t_plot = np.linspace(0, 50, 1000)\n",
    "N_plot = N_num(t_plot)/N0_num\n",
    "\n",
    "plt.plot(t_plot, N_plot)"
   ]
  },
  {
   "cell_type": "markdown",
   "metadata": {},
   "source": [
    "# Oscilador armónico"
   ]
  },
  {
   "cell_type": "markdown",
   "metadata": {},
   "source": [
    "## Oscilador armónico simple"
   ]
  },
  {
   "cell_type": "markdown",
   "metadata": {},
   "source": [
    "Una de los sistemas más importantes de la física, si es que no es el más importante, es el oscilador armónico cuya realización más simple es una partícula en un resorte. De la segunda ley de Newton y la ley de Hooke, la ecuación de movimiento que describe el oscilador armónico está dada por\n",
    "\n",
    "$$\n",
    "\\frac{d^2 x}{dt^2} + \\omega^2 x = 0 \n",
    "$$\n",
    "\n",
    "donde $x$ es la posición de la partícula y $\\omega$ es su frecuencia. La solución general a esta ecuación está dada por\n",
    "\n",
    "$$\n",
    "x(t) = C_1 \\cos(\\omega t) + C_2 \\sin(\\omega t) = A\\cos(\\omega t + \\phi)\n",
    "$$\n",
    "\n",
    "donde $C_1$ y $C_2$, u $\\omega$ y $\\phi$ dependen de las condiciones iniciales $x(0) = x_0$ y $\\dot{x} (0) = \\dot{x}_0$ "
   ]
  },
  {
   "cell_type": "code",
   "execution_count": 62,
   "metadata": {},
   "outputs": [
    {
     "data": {
      "text/latex": [
       "$\\displaystyle x{\\left(t \\right)} = C_{1} \\sin{\\left(\\omega t \\right)} + C_{2} \\cos{\\left(\\omega t \\right)}$"
      ],
      "text/plain": [
       "Eq(x(t), C1*sin(omega*t) + C2*cos(omega*t))"
      ]
     },
     "execution_count": 62,
     "metadata": {},
     "output_type": "execute_result"
    }
   ],
   "source": [
    "x = sp.Function('x', real = True)(t)\n",
    "w = sp.symbols('omega', real = True, positive = True)\n",
    "\n",
    "eq_simple = sp.Eq(sp.diff(x, (t, 2)) + w**2*x, 0)\n",
    "sol_simple = sp.dsolve(eq_simple, x)\n",
    "sol_simple"
   ]
  },
  {
   "cell_type": "code",
   "execution_count": 63,
   "metadata": {},
   "outputs": [
    {
     "data": {
      "text/latex": [
       "$\\displaystyle x{\\left(t \\right)} = \\frac{\\dot{x_0} \\sin{\\left(\\omega t \\right)}}{\\omega} + x_{0} \\cos{\\left(\\omega t \\right)}$"
      ],
      "text/plain": [
       "Eq(x(t), \\dot{x_0}*sin(omega*t)/omega + x_0*cos(omega*t))"
      ]
     },
     "execution_count": 63,
     "metadata": {},
     "output_type": "execute_result"
    }
   ],
   "source": [
    "x0 = sp.symbols('x_0', real = True)\n",
    "x0dot = sp.symbols('\\dot{x_0}', real = True)\n",
    "\n",
    "sol_simple_ci = sp.dsolve(eq_simple, x, ics = {x.subs(t, 0): x0, sp.diff(x, t).subs(t, 0): x0dot})\n",
    "sol_simple_ci "
   ]
  },
  {
   "cell_type": "code",
   "execution_count": 64,
   "metadata": {},
   "outputs": [
    {
     "data": {
      "image/png": "[encoded data removed]",
      "text/plain": [
       "<Figure size 432x288 with 1 Axes>"
      ]
     },
     "metadata": {
      "needs_background": "light"
     },
     "output_type": "display_data"
    }
   ],
   "source": [
    "w_num = 0.5\n",
    "x0_num = 5\n",
    "x0dot_num = 10\n",
    "\n",
    "x_simple_num = sp.lambdify(t, sol_simple_ci.subs([(w, w_num), (x0, x0_num), (x0dot, x0dot_num)]).rhs, 'numpy')\n",
    "\n",
    "x_simple_plot = x_simple_num(t_plot)\n",
    "plt.plot(t_plot, x_simple_plot)\n",
    "plt.title('un clasico')\n",
    "plt.show()"
   ]
  },
  {
   "cell_type": "markdown",
   "metadata": {},
   "source": [
    "## Oscilador armónico amortiguado"
   ]
  },
  {
   "cell_type": "markdown",
   "metadata": {},
   "source": [
    "Consideremos el caso en el que además se tiene una fuerza de resistencia proporcional a la velocidad de la partícula. La ecuación de movimiento será ahora\n",
    "\n",
    "$$\n",
    "\\frac{d^2 x}{dt^2} + \\gamma \\dot{x}+ \\omega^2 x = 0 \n",
    "$$\n",
    "\n",
    "cuya solución depende de los valores de $\\gamma$ y $\\omega$."
   ]
  },
  {
   "cell_type": "code",
   "execution_count": 65,
   "metadata": {},
   "outputs": [
    {
     "data": {
      "text/latex": [
       "$\\displaystyle \\gamma \\frac{d}{d t} x{\\left(t \\right)} + \\omega^{2} x{\\left(t \\right)} + \\frac{d^{2}}{d t^{2}} x{\\left(t \\right)} = 0$"
      ],
      "text/plain": [
       "Eq(gamma*Derivative(x(t), t) + omega**2*x(t) + Derivative(x(t), (t, 2)), 0)"
      ]
     },
     "execution_count": 65,
     "metadata": {},
     "output_type": "execute_result"
    }
   ],
   "source": [
    "g = sp.symbols('gamma', real = True, positive = True)\n",
    "\n",
    "eq_damped = sp.Eq(sp.diff(x, (t, 2)) + g*sp.diff(x, t) + w**2*x,  0)\n",
    "eq_damped"
   ]
  },
  {
   "cell_type": "markdown",
   "metadata": {},
   "source": [
    "### Sobreamortiguado"
   ]
  },
  {
   "cell_type": "code",
   "execution_count": 66,
   "metadata": {},
   "outputs": [
    {
     "data": {
      "text/latex": [
       "$\\displaystyle x{\\left(t \\right)} = \\frac{\\left(- \\left(0.218217890235992 \\dot{x_0} + 0.0455447255899809 \\omega x_{0}\\right) e^{0.20871215252208 \\omega t} + \\left(0.218217890235992 \\dot{x_0} + 1.04554472558998 \\omega x_{0}\\right) e^{4.79128784747792 \\omega t}\\right) e^{- 5.0 \\omega t}}{\\omega}$"
      ],
      "text/plain": [
       "Eq(x(t), (-(0.218217890235992*\\dot{x_0} + 0.0455447255899809*omega*x_0)*exp(0.20871215252208*omega*t) + (0.218217890235992*\\dot{x_0} + 1.04554472558998*omega*x_0)*exp(4.79128784747792*omega*t))*exp(-5.0*omega*t)/omega)"
      ]
     },
     "execution_count": 66,
     "metadata": {},
     "output_type": "execute_result"
    }
   ],
   "source": [
    "#sobreamortiguado\n",
    "g_sobre = 2.5*2*w \n",
    "\n",
    "CI = {x.subs(t, 0): x0, sp.diff(x, t).subs(t, 0): x0dot}\n",
    "\n",
    "eq_damped_sobre = eq_damped.subs(g, g_sobre)\n",
    "sol_sobre = sp.simplify(sp.dsolve(eq_damped_sobre, x, ics = CI))\n",
    "\n",
    "sol_sobre"
   ]
  },
  {
   "cell_type": "code",
   "execution_count": 67,
   "metadata": {},
   "outputs": [
    {
     "data": {
      "text/plain": [
       "[<matplotlib.lines.Line2D at 0x7fec04a28ef0>]"
      ]
     },
     "execution_count": 67,
     "metadata": {},
     "output_type": "execute_result"
    },
    {
     "data": {
      "image/png": "[encoded data removed]",
      "text/plain": [
       "<Figure size 432x288 with 1 Axes>"
      ]
     },
     "metadata": {
      "needs_background": "light"
     },
     "output_type": "display_data"
    }
   ],
   "source": [
    "sol_sobre = sp.dsolve(eq_damped_sobre, x, ics = CI)\n",
    "\n",
    "x_sobre_num = sp.lambdify(t, sol_sobre.subs([(w, w_num), (x0, x0_num), (x0dot, x0dot_num)]).rhs, 'numpy')\n",
    "\n",
    "x_sobre_plot = x_sobre_num(t_plot)\n",
    "plt.plot(t_plot, x_sobre_plot)"
   ]
  },
  {
   "cell_type": "markdown",
   "metadata": {},
   "source": [
    "### Amortiguamiento crítico"
   ]
  },
  {
   "cell_type": "code",
   "execution_count": 68,
   "metadata": {},
   "outputs": [
    {
     "data": {
      "text/latex": [
       "$\\displaystyle x{\\left(t \\right)} = \\left(t \\left(\\dot{x_0} + \\omega x_{0}\\right) + x_{0}\\right) e^{- \\omega t}$"
      ],
      "text/plain": [
       "Eq(x(t), (t*(\\dot{x_0} + omega*x_0) + x_0)*exp(-omega*t))"
      ]
     },
     "execution_count": 68,
     "metadata": {},
     "output_type": "execute_result"
    }
   ],
   "source": [
    "#amortiguamiento critico\n",
    "g_crit = 2*w\n",
    "\n",
    "eq_damped_crit = eq_damped.subs(g, g_crit)\n",
    "sol_crit = sp.dsolve(eq_damped_crit, x, ics = CI)\n",
    "sol_crit"
   ]
  },
  {
   "cell_type": "code",
   "execution_count": 69,
   "metadata": {},
   "outputs": [
    {
     "data": {
      "text/plain": [
       "<matplotlib.legend.Legend at 0x7fec049f9b70>"
      ]
     },
     "execution_count": 69,
     "metadata": {},
     "output_type": "execute_result"
    },
    {
     "data": {
      "image/png": "[encoded data removed]",
      "text/plain": [
       "<Figure size 432x288 with 1 Axes>"
      ]
     },
     "metadata": {
      "needs_background": "light"
     },
     "output_type": "display_data"
    }
   ],
   "source": [
    "x_crit_num = sp.lambdify(t, sol_crit.subs([(w, w_num), (x0, x0_num), (x0dot, x0dot_num)]).rhs, 'numpy')\n",
    "\n",
    "x_crit_plot = x_crit_num(t_plot)\n",
    "plt.plot(t_plot, x_sobre_plot, t_plot, x_crit_plot)\n",
    "plt.legend(['sobreamortiguado', 'critico'])"
   ]
  },
  {
   "cell_type": "markdown",
   "metadata": {},
   "source": [
    "### Subamortiguamiento"
   ]
  },
  {
   "cell_type": "code",
   "execution_count": 96,
   "metadata": {
    "scrolled": true
   },
   "outputs": [
    {
     "data": {
      "text/latex": [
       "$\\displaystyle x{\\left(t \\right)} = \\left(x_{0} \\cos{\\left(0.979795897113271 \\omega t \\right)} + \\frac{0.204124145231932 \\left(5.0 \\dot{x_0} + \\omega x_{0}\\right) \\sin{\\left(0.979795897113271 \\omega t \\right)}}{\\omega}\\right) e^{- 0.2 \\omega t}$"
      ],
      "text/plain": [
       "Eq(x(t), (x_0*cos(0.979795897113271*omega*t) + 0.204124145231932*(5.0*\\dot{x_0} + omega*x_0)*sin(0.979795897113271*omega*t)/omega)*exp(-0.2*omega*t))"
      ]
     },
     "execution_count": 96,
     "metadata": {},
     "output_type": "execute_result"
    }
   ],
   "source": [
    "#subamortiguado\n",
    "g_sub = 0.2*2*w \n",
    "\n",
    "eq_damped_sub = eq_damped_crit.subs(g_crit, g_sub)\n",
    "sol_sub = sp.dsolve(eq_damped_sub, x, ics=CI)\n",
    "\n",
    "sol_sub = sol_sub\n",
    "sol_sub"
   ]
  },
  {
   "cell_type": "code",
   "execution_count": 91,
   "metadata": {},
   "outputs": [
    {
     "data": {
      "text/plain": [
       "<matplotlib.legend.Legend at 0x7fec04856278>"
      ]
     },
     "execution_count": 91,
     "metadata": {},
     "output_type": "execute_result"
    },
    {
     "data": {
      "image/png": "[encoded data removed]",
      "text/plain": [
       "<Figure size 432x288 with 1 Axes>"
      ]
     },
     "metadata": {
      "needs_background": "light"
     },
     "output_type": "display_data"
    }
   ],
   "source": [
    "#ploteando\n",
    "x_sub_num = sp.lambdify(t, sol_sub.subs([(w, w_num), (x0, x0_num), (x0dot, x0dot_num)]).rhs, 'numpy')\n",
    "\n",
    "x_sub_plot = x_sub_num(t_plot)\n",
    "plt.plot(t_plot, x_sobre_plot, t_plot, x_crit_plot, t_plot, x_sub_plot)\n",
    "plt.legend(['sobreamortiguado', 'critico', 'subamortiguado'])"
   ]
  },
  {
   "cell_type": "markdown",
   "metadata": {},
   "source": [
    "# Sistema de ecuaciones diferenciales"
   ]
  },
  {
   "cell_type": "markdown",
   "metadata": {},
   "source": [
    "En una serie radioactiva con dos nucleidos diferentes con concentraciones $N_1(t)$ y $N_2(t)$, se tiene\n",
    "\n",
    "\\begin{align}\n",
    "\\frac{dN_1}{dt} &= -\\lambda_1 N_1 \\\\\n",
    "\\frac{dN_2}{dt} &= \\lambda_1 N_1 - \\lambda_2 N_2\\\\\n",
    "\\end{align}\n",
    "\n",
    "En $t = 0$, $N_1(0) = N_0$ y $N_2(0) = 0$ "
   ]
  },
  {
   "cell_type": "code",
   "execution_count": 93,
   "metadata": {},
   "outputs": [
    {
     "data": {
      "text/latex": [
       "$\\displaystyle \\operatorname{N_{2}}{\\left(t \\right)} = - 2.5 N_{0} e^{- 0.7 t} + 2.5 N_{0} e^{- 0.5 t}$"
      ],
      "text/plain": [
       "Eq(N_2(t), -2.5*N_0*exp(-0.7*t) + 2.5*N_0*exp(-0.5*t))"
      ]
     },
     "execution_count": 93,
     "metadata": {},
     "output_type": "execute_result"
    }
   ],
   "source": [
    "N1= sp.Function('N_1', real = True)(t)\n",
    "N2= sp.Function('N_2', real = True)(t)\n",
    "#l1, l2 = sp.symbols('lambda_1, lambda_2', real = True, positive = True)\n",
    "\n",
    "l1_num = 0.5\n",
    "l2_num = 0.7\n",
    "\n",
    "eq1 = sp.Eq(sp.diff(N1), -l1_num*N1)\n",
    "eq2 = sp.Eq(sp.diff(N2), l1_num*N1 - l2_num*N2)\n",
    "\n",
    "eqs = [eq1, eq2]\n",
    "\n",
    "N1_sol, N2_sol = sp.dsolve(eqs, [N1, N2], ics = {N1.subs(t, 0): N_0, N2.subs(t, 0): 0})\n",
    "\n",
    "N2_sol"
   ]
  },
  {
   "cell_type": "code",
   "execution_count": 95,
   "metadata": {},
   "outputs": [
    {
     "data": {
      "image/png": "[encoded data removed]",
      "text/plain": [
       "<Figure size 432x288 with 1 Axes>"
      ]
     },
     "metadata": {
      "needs_background": "light"
     },
     "output_type": "display_data"
    }
   ],
   "source": [
    "N1_num = sp.lambdify(t, N1_sol.subs(N_0, N0_num).rhs, 'numpy')\n",
    "N2_num = sp.lambdify(t, N2_sol.subs(N_0, N0_num).rhs, 'numpy')\n",
    "\n",
    "N1_plot = N1_num(t_plot)\n",
    "N2_plot = N2_num(t_plot)\n",
    "\n",
    "plt.plot(t_plot, N1_plot, t_plot, N2_plot)\n",
    "plt.legend(['$N_1$', '$N_2$'])\n",
    "plt.yscale('log')\n",
    "plt.show()"
   ]
  }
 ],
 "metadata": {
  "kernelspec": {
   "display_name": "Python 3",
   "language": "python",
   "name": "python3"
  },
  "language_info": {
   "codemirror_mode": {
    "name": "ipython",
    "version": 3
   },
   "file_extension": ".py",
   "mimetype": "text/x-python",
   "name": "python",
   "nbconvert_exporter": "python",
   "pygments_lexer": "ipython3",
   "version": "3.7.3"
  }
 },
 "nbformat": 4,
 "nbformat_minor": 2
}
