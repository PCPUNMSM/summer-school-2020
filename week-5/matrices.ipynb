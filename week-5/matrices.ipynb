{
 "cells": [
  {
   "cell_type": "markdown",
   "metadata": {},
   "source": [
    "Erwin Renzo Franco Diaz"
   ]
  },
  {
   "cell_type": "markdown",
   "metadata": {},
   "source": [
    "# Introducción"
   ]
  },
  {
   "cell_type": "markdown",
   "metadata": {},
   "source": [
    "Además del cálculo, una de las herramientas matemáticas fundamentales para la física es el álgebra lineal, cuyos objetos principales de estudio son los vectores y las matrices. En la sesión de esta semana veremos como trabajar con estas en $\\texttt{python}$, tanto de manera simbólica como numérica. Haremos énfasis principalmente en la obtención de los autovalores y autovectores de una matriz, y lo aplicaremos a la resolución de problemas en mecánica cuántica y oscilaciones."
   ]
  },
  {
   "cell_type": "markdown",
   "metadata": {},
   "source": [
    "# Matrices simbólicas"
   ]
  },
  {
   "cell_type": "markdown",
   "metadata": {},
   "source": [
    "La manera más sencilla de definir una matriz es como un arreglo (en general) rectangular de números, por ejemplo\n",
    "\n",
    "$$\n",
    "A = \\left(\n",
    "\\begin{matrix}\n",
    "-2 & -4 & 2 \\\\\n",
    "-2 & 1 & 2 \\\\\n",
    "4 & 2 & 5\n",
    "\\end{matrix}\n",
    "\\right).\n",
    "$$\n",
    "\n",
    "Para definir esta matriz de manera simbólica usamos el paquete $\\texttt{sympy}$, en particular, el comando $\\texttt{Matrix}$"
   ]
  },
  {
   "cell_type": "code",
   "execution_count": 63,
   "metadata": {},
   "outputs": [],
   "source": [
    "import sympy as sp\n",
    "sp.init_printing()"
   ]
  },
  {
   "cell_type": "code",
   "execution_count": 64,
   "metadata": {},
   "outputs": [
    {
     "data": {
      "image/png": "[encoded data removed]",
      "text/latex": [
       "$\\displaystyle \\left[\\begin{matrix}-2 & -4 & 2\\\\-2 & 1 & 2\\\\4 & 2 & 5\\end{matrix}\\right]$"
      ],
      "text/plain": [
       "⎡-2  -4  2⎤\n",
       "⎢         ⎥\n",
       "⎢-2  1   2⎥\n",
       "⎢         ⎥\n",
       "⎣4   2   5⎦"
      ]
     },
     "execution_count": 64,
     "metadata": {},
     "output_type": "execute_result"
    }
   ],
   "source": [
    "A = sp.Matrix([[-2, -4, 2], \n",
    "               [-2, 1, 2],\n",
    "               [4, 2, 5]])\n",
    "\n",
    "A"
   ]
  },
  {
   "cell_type": "code",
   "execution_count": 65,
   "metadata": {},
   "outputs": [
    {
     "data": {
      "image/png": "[encoded data removed]",
      "text/latex": [
       "$\\displaystyle \\left[\\begin{matrix}1 - i & 4 & 3\\\\0 & - i & 2\\\\1 & 2 & 5\\end{matrix}\\right]$"
      ],
      "text/plain": [
       "⎡1 - ⅈ  4   3⎤\n",
       "⎢            ⎥\n",
       "⎢  0    -ⅈ  2⎥\n",
       "⎢            ⎥\n",
       "⎣  1    2   5⎦"
      ]
     },
     "execution_count": 65,
     "metadata": {},
     "output_type": "execute_result"
    }
   ],
   "source": [
    "B = sp.Matrix([[1-sp.I, 4, 3],\n",
    "               [0, -1*sp.I, 2], \n",
    "               [1, 2, 5]])\n",
    "\n",
    "B"
   ]
  },
  {
   "cell_type": "markdown",
   "metadata": {},
   "source": [
    "$\\texttt{sp.I} = i$, la unidad imaginaria"
   ]
  },
  {
   "cell_type": "markdown",
   "metadata": {},
   "source": [
    "## Operaciones básicas"
   ]
  },
  {
   "cell_type": "markdown",
   "metadata": {},
   "source": [
    "*Nota:* Antes de realizar alguna operación, verificar siempre que las matrices tengan las dimensiones adecuadas. Caso contrario, $\\texttt{python}$ dará un error."
   ]
  },
  {
   "cell_type": "markdown",
   "metadata": {},
   "source": [
    "Suma "
   ]
  },
  {
   "cell_type": "code",
   "execution_count": 66,
   "metadata": {},
   "outputs": [
    {
     "data": {
      "image/png": "[encoded data removed]",
      "text/latex": [
       "$\\displaystyle \\left[\\begin{matrix}-1 - i & 0 & 5\\\\-2 & 1 - i & 4\\\\5 & 4 & 10\\end{matrix}\\right]$"
      ],
      "text/plain": [
       "⎡-1 - ⅈ    0    5 ⎤\n",
       "⎢                 ⎥\n",
       "⎢  -2    1 - ⅈ  4 ⎥\n",
       "⎢                 ⎥\n",
       "⎣  5       4    10⎦"
      ]
     },
     "execution_count": 66,
     "metadata": {},
     "output_type": "execute_result"
    }
   ],
   "source": [
    "A + B"
   ]
  },
  {
   "cell_type": "markdown",
   "metadata": {},
   "source": [
    "Resta"
   ]
  },
  {
   "cell_type": "code",
   "execution_count": 67,
   "metadata": {},
   "outputs": [
    {
     "data": {
      "image/png": "[encoded data removed]",
      "text/latex": [
       "$\\displaystyle \\left[\\begin{matrix}-3 + i & -8 & -1\\\\-2 & 1 + i & 0\\\\3 & 0 & 0\\end{matrix}\\right]$"
      ],
      "text/plain": [
       "⎡-3 + ⅈ   -8    -1⎤\n",
       "⎢                 ⎥\n",
       "⎢  -2    1 + ⅈ  0 ⎥\n",
       "⎢                 ⎥\n",
       "⎣  3       0    0 ⎦"
      ]
     },
     "execution_count": 67,
     "metadata": {},
     "output_type": "execute_result"
    }
   ],
   "source": [
    "A - B"
   ]
  },
  {
   "cell_type": "markdown",
   "metadata": {},
   "source": [
    "Multiplicación por un escalar"
   ]
  },
  {
   "cell_type": "code",
   "execution_count": 68,
   "metadata": {},
   "outputs": [
    {
     "data": {
      "image/png": "[encoded data removed]",
      "text/latex": [
       "$\\displaystyle \\left[\\begin{matrix}-0.6 & -1.2 & 0.6\\\\-0.6 & 0.3 & 0.6\\\\1.2 & 0.6 & 1.5\\end{matrix}\\right]$"
      ],
      "text/plain": [
       "⎡-0.6  -1.2  0.6⎤\n",
       "⎢               ⎥\n",
       "⎢-0.6  0.3   0.6⎥\n",
       "⎢               ⎥\n",
       "⎣1.2   0.6   1.5⎦"
      ]
     },
     "execution_count": 68,
     "metadata": {},
     "output_type": "execute_result"
    }
   ],
   "source": [
    "0.3*A"
   ]
  },
  {
   "cell_type": "code",
   "execution_count": 69,
   "metadata": {},
   "outputs": [
    {
     "data": {
      "image/png": "[encoded data removed]",
      "text/latex": [
       "$\\displaystyle \\left[\\begin{matrix}-1 & -2 & 1\\\\-1 & \\frac{1}{2} & 1\\\\2 & 1 & \\frac{5}{2}\\end{matrix}\\right]$"
      ],
      "text/plain": [
       "⎡-1  -2    1 ⎤\n",
       "⎢            ⎥\n",
       "⎢-1  1/2   1 ⎥\n",
       "⎢            ⎥\n",
       "⎣2    1   5/2⎦"
      ]
     },
     "execution_count": 69,
     "metadata": {},
     "output_type": "execute_result"
    }
   ],
   "source": [
    "sp.Rational(1, 2)*A"
   ]
  },
  {
   "cell_type": "markdown",
   "metadata": {},
   "source": [
    "Multiplicación de matrices"
   ]
  },
  {
   "cell_type": "code",
   "execution_count": 70,
   "metadata": {},
   "outputs": [
    {
     "data": {
      "image/png": "[encoded data removed]",
      "text/latex": [
       "$\\displaystyle \\left[\\begin{matrix}2 i & -4 + 4 i & -4\\\\2 i & -4 - i & 6\\\\9 - 4 i & 26 - 2 i & 41\\end{matrix}\\right]$"
      ],
      "text/plain": [
       "⎡  2⋅ⅈ    -4 + 4⋅ⅈ  -4⎤\n",
       "⎢                     ⎥\n",
       "⎢  2⋅ⅈ     -4 - ⅈ   6 ⎥\n",
       "⎢                     ⎥\n",
       "⎣9 - 4⋅ⅈ  26 - 2⋅ⅈ  41⎦"
      ]
     },
     "execution_count": 70,
     "metadata": {},
     "output_type": "execute_result"
    }
   ],
   "source": [
    "A*B"
   ]
  },
  {
   "cell_type": "markdown",
   "metadata": {},
   "source": [
    "Potencia "
   ]
  },
  {
   "cell_type": "code",
   "execution_count": 91,
   "metadata": {},
   "outputs": [
    {
     "data": {
      "image/png": "[encoded data removed]",
      "text/latex": [
       "$\\displaystyle \\left[\\begin{matrix}3 - 2 i & 10 - 8 i & 26 - 3 i\\\\2 & 3 & 10 - 2 i\\\\6 - i & 14 - 2 i & 32\\end{matrix}\\right]$"
      ],
      "text/plain": [
       "⎡3 - 2⋅ⅈ  10 - 8⋅ⅈ  26 - 3⋅ⅈ⎤\n",
       "⎢                           ⎥\n",
       "⎢   2        3      10 - 2⋅ⅈ⎥\n",
       "⎢                           ⎥\n",
       "⎣ 6 - ⅈ   14 - 2⋅ⅈ     32   ⎦"
      ]
     },
     "execution_count": 91,
     "metadata": {},
     "output_type": "execute_result"
    }
   ],
   "source": [
    "#B**2 = B*B\n",
    "sp.simplify(B**2)"
   ]
  },
  {
   "cell_type": "markdown",
   "metadata": {},
   "source": [
    "Es posible mezclar estas operaciones algebraicas."
   ]
  },
  {
   "cell_type": "code",
   "execution_count": 92,
   "metadata": {},
   "outputs": [
    {
     "data": {
      "image/png": "[encoded data removed]",
      "text/latex": [
       "$\\displaystyle \\left[\\begin{matrix}-0.6 + 2.4 i & -6.0 + 5.6 i & -9.2 + 0.6 i\\\\-0.4 + 2 i & -4.6 - i & 4.0 + 0.4 i\\\\7.8 - 3.8 i & 23.2 - 1.6 i & 34.6\\end{matrix}\\right]$"
      ],
      "text/plain": [
       "⎡-0.6 + 2.4⋅ⅈ  -6.0 + 5.6⋅ⅈ  -9.2 + 0.6⋅ⅈ⎤\n",
       "⎢                                        ⎥\n",
       "⎢ -0.4 + 2⋅ⅈ     -4.6 - ⅈ    4.0 + 0.4⋅ⅈ ⎥\n",
       "⎢                                        ⎥\n",
       "⎣7.8 - 3.8⋅ⅈ   23.2 - 1.6⋅ⅈ      34.6    ⎦"
      ]
     },
     "execution_count": 92,
     "metadata": {},
     "output_type": "execute_result"
    }
   ],
   "source": [
    "sp.simplify(A*B - 0.2*B**2)"
   ]
  },
  {
   "cell_type": "markdown",
   "metadata": {},
   "source": [
    "Transpuesta $A^T$"
   ]
  },
  {
   "cell_type": "code",
   "execution_count": 73,
   "metadata": {},
   "outputs": [
    {
     "data": {
      "image/png": "[encoded data removed]",
      "text/latex": [
       "$\\displaystyle \\left[\\begin{matrix}-2 & -2 & 4\\\\-4 & 1 & 2\\\\2 & 2 & 5\\end{matrix}\\right]$"
      ],
      "text/plain": [
       "⎡-2  -2  4⎤\n",
       "⎢         ⎥\n",
       "⎢-4  1   2⎥\n",
       "⎢         ⎥\n",
       "⎣2   2   5⎦"
      ]
     },
     "execution_count": 73,
     "metadata": {},
     "output_type": "execute_result"
    }
   ],
   "source": [
    "A.T"
   ]
  },
  {
   "cell_type": "markdown",
   "metadata": {},
   "source": [
    "Adjunta\n",
    "\n",
    "$$\n",
    "A^\\dagger = \\left(A^T\\right)^*\n",
    "$$"
   ]
  },
  {
   "cell_type": "code",
   "execution_count": 74,
   "metadata": {},
   "outputs": [
    {
     "data": {
      "image/png": "[encoded data removed]",
      "text/latex": [
       "$\\displaystyle \\left[\\begin{matrix}1 + i & 0 & 1\\\\4 & i & 2\\\\3 & 2 & 5\\end{matrix}\\right]$"
      ],
      "text/plain": [
       "⎡1 + ⅈ  0  1⎤\n",
       "⎢           ⎥\n",
       "⎢  4    ⅈ  2⎥\n",
       "⎢           ⎥\n",
       "⎣  3    2  5⎦"
      ]
     },
     "execution_count": 74,
     "metadata": {},
     "output_type": "execute_result"
    }
   ],
   "source": [
    "from sympy.physics.quantum.dagger import Dagger\n",
    "Dagger(B)"
   ]
  },
  {
   "cell_type": "markdown",
   "metadata": {},
   "source": [
    "Determinante"
   ]
  },
  {
   "cell_type": "code",
   "execution_count": 93,
   "metadata": {},
   "outputs": [
    {
     "data": {
      "image/png": "[encoded data removed]",
      "text/latex": [
       "$\\displaystyle -1 + 2 i$"
      ],
      "text/plain": [
       "-1 + 2⋅ⅈ"
      ]
     },
     "execution_count": 93,
     "metadata": {},
     "output_type": "execute_result"
    }
   ],
   "source": [
    "sp.simplify(B.det())"
   ]
  },
  {
   "cell_type": "markdown",
   "metadata": {},
   "source": [
    "Inversa $A^{-1}$\n",
    "\n",
    "$$\n",
    "A^{-1} A = AA^{-1} = I\n",
    "$$"
   ]
  },
  {
   "cell_type": "code",
   "execution_count": 95,
   "metadata": {},
   "outputs": [
    {
     "data": {
      "image/png": "[encoded data removed]",
      "text/latex": [
       "$\\displaystyle \\left[\\begin{matrix}- \\frac{1}{90} & - \\frac{4}{15} & \\frac{1}{9}\\\\- \\frac{1}{5} & \\frac{1}{5} & 0\\\\\\frac{4}{45} & \\frac{2}{15} & \\frac{1}{9}\\end{matrix}\\right]$"
      ],
      "text/plain": [
       "⎡-1/90  -4/15  1/9⎤\n",
       "⎢                 ⎥\n",
       "⎢-1/5    1/5    0 ⎥\n",
       "⎢                 ⎥\n",
       "⎣4/45   2/15   1/9⎦"
      ]
     },
     "execution_count": 95,
     "metadata": {},
     "output_type": "execute_result"
    }
   ],
   "source": [
    "A**(-1)"
   ]
  },
  {
   "cell_type": "code",
   "execution_count": 94,
   "metadata": {},
   "outputs": [
    {
     "data": {
      "image/png": "[encoded data removed]",
      "text/latex": [
       "$\\displaystyle \\left[\\begin{matrix}- \\frac{6}{5} + \\frac{13 i}{5} & \\frac{14}{5} + \\frac{28 i}{5} & - \\frac{2}{5} - \\frac{19 i}{5}\\\\- \\frac{2}{5} - \\frac{4 i}{5} & - \\frac{12}{5} + \\frac{i}{5} & \\frac{6}{5} + \\frac{2 i}{5}\\\\\\frac{2}{5} - \\frac{i}{5} & \\frac{2}{5} - \\frac{6 i}{5} & - \\frac{1}{5} + \\frac{3 i}{5}\\end{matrix}\\right]$"
      ],
      "text/plain": [
       "⎡  6   13⋅ⅈ  14   28⋅ⅈ    2   19⋅ⅈ⎤\n",
       "⎢- ─ + ────  ── + ────  - ─ - ────⎥\n",
       "⎢  5    5    5     5      5    5  ⎥\n",
       "⎢                                 ⎥\n",
       "⎢  2   4⋅ⅈ     12   ⅈ    6   2⋅ⅈ  ⎥\n",
       "⎢- ─ - ───   - ── + ─    ─ + ───  ⎥\n",
       "⎢  5    5      5    5    5    5   ⎥\n",
       "⎢                                 ⎥\n",
       "⎢  2   ⅈ      2   6⋅ⅈ     1   3⋅ⅈ ⎥\n",
       "⎢  ─ - ─      ─ - ───   - ─ + ─── ⎥\n",
       "⎣  5   5      5    5      5    5  ⎦"
      ]
     },
     "execution_count": 94,
     "metadata": {},
     "output_type": "execute_result"
    }
   ],
   "source": [
    "sp.simplify(B**(-1))"
   ]
  },
  {
   "cell_type": "markdown",
   "metadata": {},
   "source": [
    "## Algunas matrices especiales"
   ]
  },
  {
   "cell_type": "markdown",
   "metadata": {},
   "source": [
    "Matrix identidad $I$\n",
    "\n",
    "$$\n",
    "IA = AI = A\n",
    "$$"
   ]
  },
  {
   "cell_type": "code",
   "execution_count": 77,
   "metadata": {},
   "outputs": [
    {
     "data": {
      "image/png": "[encoded data removed]",
      "text/latex": [
       "$\\displaystyle \\left[\\begin{matrix}1 & 0 & 0\\\\0 & 1 & 0\\\\0 & 0 & 1\\end{matrix}\\right]$"
      ],
      "text/plain": [
       "⎡1  0  0⎤\n",
       "⎢       ⎥\n",
       "⎢0  1  0⎥\n",
       "⎢       ⎥\n",
       "⎣0  0  1⎦"
      ]
     },
     "execution_count": 77,
     "metadata": {},
     "output_type": "execute_result"
    }
   ],
   "source": [
    "sp.eye(3)"
   ]
  },
  {
   "cell_type": "markdown",
   "metadata": {},
   "source": [
    "Matriz de ceros"
   ]
  },
  {
   "cell_type": "code",
   "execution_count": 78,
   "metadata": {},
   "outputs": [
    {
     "data": {
      "image/png": "[encoded data removed]",
      "text/latex": [
       "$\\displaystyle \\left[\\begin{matrix}0 & 0 & 0\\\\0 & 0 & 0\\\\0 & 0 & 0\\end{matrix}\\right]$"
      ],
      "text/plain": [
       "⎡0  0  0⎤\n",
       "⎢       ⎥\n",
       "⎢0  0  0⎥\n",
       "⎢       ⎥\n",
       "⎣0  0  0⎦"
      ]
     },
     "execution_count": 78,
     "metadata": {},
     "output_type": "execute_result"
    }
   ],
   "source": [
    "sp.zeros(3)"
   ]
  },
  {
   "cell_type": "markdown",
   "metadata": {},
   "source": [
    "Matriz de unos"
   ]
  },
  {
   "cell_type": "code",
   "execution_count": 79,
   "metadata": {},
   "outputs": [
    {
     "data": {
      "image/png": "[encoded data removed]",
      "text/latex": [
       "$\\displaystyle \\left[\\begin{matrix}1 & 1 & 1\\\\1 & 1 & 1\\\\1 & 1 & 1\\end{matrix}\\right]$"
      ],
      "text/plain": [
       "⎡1  1  1⎤\n",
       "⎢       ⎥\n",
       "⎢1  1  1⎥\n",
       "⎢       ⎥\n",
       "⎣1  1  1⎦"
      ]
     },
     "execution_count": 79,
     "metadata": {},
     "output_type": "execute_result"
    }
   ],
   "source": [
    "sp.ones(3)"
   ]
  },
  {
   "cell_type": "markdown",
   "metadata": {},
   "source": [
    "Matriz diagonal"
   ]
  },
  {
   "cell_type": "code",
   "execution_count": 80,
   "metadata": {},
   "outputs": [
    {
     "data": {
      "image/png": "[encoded data removed]",
      "text/latex": [
       "$\\displaystyle \\left[\\begin{matrix}-3 & 0 & 0\\\\0 & 1 & 0\\\\0 & 0 & 6\\end{matrix}\\right]$"
      ],
      "text/plain": [
       "⎡-3  0  0⎤\n",
       "⎢        ⎥\n",
       "⎢0   1  0⎥\n",
       "⎢        ⎥\n",
       "⎣0   0  6⎦"
      ]
     },
     "execution_count": 80,
     "metadata": {},
     "output_type": "execute_result"
    }
   ],
   "source": [
    "sp.diag(-3, 1, 6)"
   ]
  },
  {
   "cell_type": "markdown",
   "metadata": {},
   "source": [
    "También es posible incluir variables en una matriz."
   ]
  },
  {
   "cell_type": "code",
   "execution_count": 81,
   "metadata": {},
   "outputs": [
    {
     "data": {
      "image/png": "[encoded data removed]",
      "text/latex": [
       "$\\displaystyle \\left[\\begin{matrix}- x & - y & x\\\\x^{2} & 0 & e^{- x y}\\\\y & 2 x + y & 0\\end{matrix}\\right]$"
      ],
      "text/plain": [
       "⎡-x    -y       x  ⎤\n",
       "⎢                  ⎥\n",
       "⎢ 2            -x⋅y⎥\n",
       "⎢x      0     ℯ    ⎥\n",
       "⎢                  ⎥\n",
       "⎣y   2⋅x + y    0  ⎦"
      ]
     },
     "execution_count": 81,
     "metadata": {},
     "output_type": "execute_result"
    }
   ],
   "source": [
    "x, y = sp.symbols('x, y')\n",
    "\n",
    "C = sp.Matrix([[-x, -y, x],\n",
    "               [x**2, 0, sp.exp(-x*y)],\n",
    "               [y, 2*x + y, 0]])\n",
    "\n",
    "C"
   ]
  },
  {
   "cell_type": "code",
   "execution_count": 82,
   "metadata": {},
   "outputs": [
    {
     "data": {
      "image/png": "[encoded data removed]",
      "text/latex": [
       "$\\displaystyle \\left[\\begin{matrix}- x - 2 & - y - 4 & x + 2\\\\x^{2} - 2 & 1 & 2 + e^{- x y}\\\\y + 4 & 2 x + y + 2 & 5\\end{matrix}\\right]$"
      ],
      "text/plain": [
       "⎡-x - 2    -y - 4       x + 2  ⎤\n",
       "⎢                              ⎥\n",
       "⎢ 2                        -x⋅y⎥\n",
       "⎢x  - 2       1       2 + ℯ    ⎥\n",
       "⎢                              ⎥\n",
       "⎣y + 4   2⋅x + y + 2      5    ⎦"
      ]
     },
     "execution_count": 82,
     "metadata": {},
     "output_type": "execute_result"
    }
   ],
   "source": [
    "A + C"
   ]
  },
  {
   "cell_type": "code",
   "execution_count": 83,
   "metadata": {},
   "outputs": [
    {
     "data": {
      "image/png": "[encoded data removed]",
      "text/latex": [
       "$\\displaystyle x^{3} \\left(2 x + y\\right) + x \\left(2 x + y\\right) e^{- x y} - y^{2} e^{- x y}$"
      ],
      "text/plain": [
       " 3                          -x⋅y    2  -x⋅y\n",
       "x ⋅(2⋅x + y) + x⋅(2⋅x + y)⋅ℯ     - y ⋅ℯ    "
      ]
     },
     "execution_count": 83,
     "metadata": {},
     "output_type": "execute_result"
    }
   ],
   "source": [
    "C.det()"
   ]
  },
  {
   "cell_type": "code",
   "execution_count": 84,
   "metadata": {},
   "outputs": [
    {
     "data": {
      "image/png": "[encoded data removed]",
      "text/latex": [
       "$\\displaystyle \\left[\\begin{matrix}- \\frac{2 x + y}{x^{2} y^{2} e^{x y} + \\left(x \\left(2 x + y\\right) - y^{2}\\right) \\left(x^{2} e^{x y} + 1\\right)} & \\frac{x \\left(2 x + y\\right) e^{x y}}{2 x^{4} e^{x y} + x^{3} y e^{x y} + 2 x^{2} + x y - y^{2}} & - \\frac{y}{x^{2} y^{2} e^{x y} + \\left(x \\left(2 x + y\\right) - y^{2}\\right) \\left(x^{2} e^{x y} + 1\\right)}\\\\\\frac{y}{2 x^{4} e^{x y} + x^{3} y e^{x y} + 2 x^{2} + x y - y^{2}} & - \\frac{x y e^{x y}}{2 x^{4} e^{x y} + x^{3} y e^{x y} + 2 x^{2} + x y - y^{2}} & \\frac{x^{3} e^{x y} + x}{2 x^{4} e^{x y} + x^{3} y e^{x y} + 2 x^{2} + x y - y^{2}}\\\\\\frac{x^{2} \\left(2 x + y\\right) e^{x y}}{x^{2} y^{2} e^{x y} + \\left(x \\left(2 x + y\\right) - y^{2}\\right) \\left(x^{2} e^{x y} + 1\\right)} & \\frac{\\left(x \\left(2 x + y\\right) - y^{2}\\right) e^{x y}}{x^{2} y^{2} e^{x y} + \\left(x \\left(2 x + y\\right) - y^{2}\\right) \\left(x^{2} e^{x y} + 1\\right)} & \\frac{x^{2} y e^{x y}}{x^{2} y^{2} e^{x y} + \\left(x \\left(2 x + y\\right) - y^{2}\\right) \\left(x^{2} e^{x y} + 1\\right)}\\end{matrix}\\right]$"
      ],
      "text/plain": [
       "⎡                                                                           x⋅\n",
       "⎢                 -(2⋅x + y)                                   x⋅(2⋅x + y)⋅ℯ  \n",
       "⎢─────────────────────────────────────────────     ───────────────────────────\n",
       "⎢ 2  2  x⋅y   ⎛               2⎞ ⎛ 2  x⋅y    ⎞        4  x⋅y    3    x⋅y      \n",
       "⎢x ⋅y ⋅ℯ    + ⎝x⋅(2⋅x + y) - y ⎠⋅⎝x ⋅ℯ    + 1⎠     2⋅x ⋅ℯ    + x ⋅y⋅ℯ    + 2⋅x\n",
       "⎢                                                                             \n",
       "⎢                                                                       x⋅y   \n",
       "⎢                      y                                          -x⋅y⋅ℯ      \n",
       "⎢   ───────────────────────────────────────        ───────────────────────────\n",
       "⎢      4  x⋅y    3    x⋅y      2          2           4  x⋅y    3    x⋅y      \n",
       "⎢   2⋅x ⋅ℯ    + x ⋅y⋅ℯ    + 2⋅x  + x⋅y - y         2⋅x ⋅ℯ    + x ⋅y⋅ℯ    + 2⋅x\n",
       "⎢                                                                             \n",
       "⎢               2            x⋅y                           ⎛               2⎞ \n",
       "⎢              x ⋅(2⋅x + y)⋅ℯ                              ⎝x⋅(2⋅x + y) - y ⎠⋅\n",
       "⎢─────────────────────────────────────────────  ──────────────────────────────\n",
       "⎢ 2  2  x⋅y   ⎛               2⎞ ⎛ 2  x⋅y    ⎞   2  2  x⋅y   ⎛               2\n",
       "⎣x ⋅y ⋅ℯ    + ⎝x⋅(2⋅x + y) - y ⎠⋅⎝x ⋅ℯ    + 1⎠  x ⋅y ⋅ℯ    + ⎝x⋅(2⋅x + y) - y \n",
       "\n",
       "y                                                             ⎤\n",
       "                                      -y                      ⎥\n",
       "────────────     ─────────────────────────────────────────────⎥\n",
       "2          2      2  2  x⋅y   ⎛               2⎞ ⎛ 2  x⋅y    ⎞⎥\n",
       "  + x⋅y - y      x ⋅y ⋅ℯ    + ⎝x⋅(2⋅x + y) - y ⎠⋅⎝x ⋅ℯ    + 1⎠⎥\n",
       "                                                              ⎥\n",
       "                                   3  x⋅y                     ⎥\n",
       "                                  x ⋅ℯ    + x                 ⎥\n",
       "────────────        ───────────────────────────────────────   ⎥\n",
       "2          2           4  x⋅y    3    x⋅y      2          2   ⎥\n",
       "  + x⋅y - y         2⋅x ⋅ℯ    + x ⋅y⋅ℯ    + 2⋅x  + x⋅y - y    ⎥\n",
       "                                                              ⎥\n",
       " x⋅y                                2    x⋅y                  ⎥\n",
       "ℯ                                  x ⋅y⋅ℯ                     ⎥\n",
       "───────────────  ─────────────────────────────────────────────⎥\n",
       "⎞ ⎛ 2  x⋅y    ⎞   2  2  x⋅y   ⎛               2⎞ ⎛ 2  x⋅y    ⎞⎥\n",
       "⎠⋅⎝x ⋅ℯ    + 1⎠  x ⋅y ⋅ℯ    + ⎝x⋅(2⋅x + y) - y ⎠⋅⎝x ⋅ℯ    + 1⎠⎦"
      ]
     },
     "execution_count": 84,
     "metadata": {},
     "output_type": "execute_result"
    }
   ],
   "source": [
    "sp.simplify(C**(-1))"
   ]
  },
  {
   "cell_type": "markdown",
   "metadata": {},
   "source": [
    "## Ejercicio 1: Matriz de rotación (1)"
   ]
  },
  {
   "cell_type": "markdown",
   "metadata": {},
   "source": [
    "1. Definir la matriz de rotación alrededor del eje $z$\n",
    "\n",
    "$$\n",
    "R = \n",
    "\\begin{pmatrix}\n",
    "\\cos \\theta & -\\sin \\theta & 0 \\\\\n",
    "\\sin \\theta & \\cos \\theta & 0 \\\\\n",
    "0 & 0 & 1\n",
    "\\end{pmatrix}\n",
    "$$\n",
    "\n",
    "2. Verificar que $\\det R = 1$\n",
    "3. Hallar $R^{-1}$.\n",
    "4. Hallar $R^T$ y verificar que $R^T R = 1$. Esto significa que $R$ es una matriz ortogonal."
   ]
  },
  {
   "cell_type": "code",
   "execution_count": 85,
   "metadata": {},
   "outputs": [],
   "source": [
    "#solucion"
   ]
  },
  {
   "cell_type": "markdown",
   "metadata": {},
   "source": [
    "## Autovalores y autovectores"
   ]
  },
  {
   "cell_type": "markdown",
   "metadata": {},
   "source": [
    "En general, al multiplicar una matriz $A$ por un vector $\\mathbf{v}$, se obtiene un vector completamente nuevo. Sin embargo, existen ciertos vectores especiales que cambian solo por una constante\n",
    "\n",
    "$$\n",
    "A \\mathbf{v} = \\lambda \\mathbf{v}\n",
    "$$\n",
    "\n",
    "A los vectores $\\mathbf{v}$ que cumplen esta relación, se les denomina como los __autovectores__ de $A$, mientras que a los respectivos escalares $\\lambda$, como sus __autovalores__.\n",
    "\n",
    "El cálculo de los autovalores y autovectores de una matriz es muy importante para hallar por ejemplo, las energías de un sistema cuántico o los modos normales de vibración de un sistema de osciladores, como veremos más adelante."
   ]
  },
  {
   "cell_type": "markdown",
   "metadata": {},
   "source": [
    "Autovalores"
   ]
  },
  {
   "cell_type": "code",
   "execution_count": 86,
   "metadata": {},
   "outputs": [
    {
     "data": {
      "image/png": "[encoded data removed]",
      "text/latex": [
       "$\\displaystyle \\left\\{ -5 : 1, \\  3 : 1, \\  6 : 1\\right\\}$"
      ],
      "text/plain": [
       "{-5: 1, 3: 1, 6: 1}"
      ]
     },
     "execution_count": 86,
     "metadata": {},
     "output_type": "execute_result"
    }
   ],
   "source": [
    "A.eigenvals()"
   ]
  },
  {
   "cell_type": "markdown",
   "metadata": {},
   "source": [
    "La función $\\texttt{eigenvals()}$ nos da los autovalores de la matriz, así como el número de veces que cada uno se repite, lo que se conoce como _multiplicidad_."
   ]
  },
  {
   "cell_type": "markdown",
   "metadata": {},
   "source": [
    "Es posible convertir un número expresado de manera simbólica a su forma decimal."
   ]
  },
  {
   "cell_type": "code",
   "execution_count": 87,
   "metadata": {},
   "outputs": [
    {
     "data": {
      "image/png": "[encoded data removed]",
      "text/latex": [
       "$\\displaystyle -0.214158555956897 - 1.66201147602648 i$"
      ],
      "text/plain": [
       "-0.214158555956897 - 1.66201147602648⋅ⅈ"
      ]
     },
     "metadata": {},
     "output_type": "display_data"
    },
    {
     "data": {
      "image/png": "[encoded data removed]",
      "text/latex": [
       "$\\displaystyle -0.169352316683627 - 0.122331172918285 i$"
      ],
      "text/plain": [
       "-0.169352316683627 - 0.122331172918285⋅ⅈ"
      ]
     },
     "metadata": {},
     "output_type": "display_data"
    },
    {
     "data": {
      "image/png": "[encoded data removed]",
      "text/latex": [
       "$\\displaystyle 6.38351087264052 - 0.215657351055237 i$"
      ],
      "text/plain": [
       "6.38351087264052 - 0.215657351055237⋅ⅈ"
      ]
     },
     "metadata": {},
     "output_type": "display_data"
    }
   ],
   "source": [
    "B_eigenvals = list(B.eigenvals().keys())\n",
    "\n",
    "for i in B_eigenvals:\n",
    "    display(sp.N(i))"
   ]
  },
  {
   "cell_type": "markdown",
   "metadata": {},
   "source": [
    "Autovectores"
   ]
  },
  {
   "cell_type": "code",
   "execution_count": 129,
   "metadata": {},
   "outputs": [
    {
     "data": {
      "image/png": "[encoded data removed]",
      "text/latex": [
       "$\\displaystyle \\left[ \\left( -5, \\  1, \\  \\left[ \\left[\\begin{matrix}-2\\\\-1\\\\1\\end{matrix}\\right]\\right]\\right), \\  \\left( 3, \\  1, \\  \\left[ \\left[\\begin{matrix}-2\\\\3\\\\1\\end{matrix}\\right]\\right]\\right), \\  \\left( 6, \\  1, \\  \\left[ \\left[\\begin{matrix}\\frac{1}{16}\\\\\\frac{3}{8}\\\\1\\end{matrix}\\right]\\right]\\right)\\right]$"
      ],
      "text/plain": [
       "⎡⎛       ⎡⎡-2⎤⎤⎞  ⎛      ⎡⎡-2⎤⎤⎞  ⎛      ⎡⎡1/16⎤⎤⎞⎤\n",
       "⎢⎜       ⎢⎢  ⎥⎥⎟  ⎜      ⎢⎢  ⎥⎥⎟  ⎜      ⎢⎢    ⎥⎥⎟⎥\n",
       "⎢⎜-5, 1, ⎢⎢-1⎥⎥⎟, ⎜3, 1, ⎢⎢3 ⎥⎥⎟, ⎜6, 1, ⎢⎢3/8 ⎥⎥⎟⎥\n",
       "⎢⎜       ⎢⎢  ⎥⎥⎟  ⎜      ⎢⎢  ⎥⎥⎟  ⎜      ⎢⎢    ⎥⎥⎟⎥\n",
       "⎣⎝       ⎣⎣1 ⎦⎦⎠  ⎝      ⎣⎣1 ⎦⎦⎠  ⎝      ⎣⎣ 1  ⎦⎦⎠⎦"
      ]
     },
     "execution_count": 129,
     "metadata": {},
     "output_type": "execute_result"
    }
   ],
   "source": [
    "A.eigenvects()"
   ]
  },
  {
   "cell_type": "markdown",
   "metadata": {},
   "source": [
    "La función $\\texttt{eigenvals()}$ nos da los autovectores de la matriz, así como su respectivo autovalor y multiplicidad."
   ]
  },
  {
   "cell_type": "markdown",
   "metadata": {},
   "source": [
    "Si queremos seleccionar un autovector en particular"
   ]
  },
  {
   "cell_type": "code",
   "execution_count": 89,
   "metadata": {},
   "outputs": [
    {
     "data": {
      "image/png": "[encoded data removed]",
      "text/latex": [
       "$\\displaystyle \\left[\\begin{matrix}-2\\\\-1\\\\1\\end{matrix}\\right]$"
      ],
      "text/plain": [
       "⎡-2⎤\n",
       "⎢  ⎥\n",
       "⎢-1⎥\n",
       "⎢  ⎥\n",
       "⎣1 ⎦"
      ]
     },
     "execution_count": 89,
     "metadata": {},
     "output_type": "execute_result"
    }
   ],
   "source": [
    "A.eigenvects()[0][2][0]"
   ]
  },
  {
   "cell_type": "markdown",
   "metadata": {},
   "source": [
    "## Ejercicio 2: Matriz de rotación (2)"
   ]
  },
  {
   "cell_type": "markdown",
   "metadata": {},
   "source": [
    "1. Hallar los autovalores de $R$.\n",
    "2. Hallar los autovectores de $R$.\n",
    "3. Dar una interpretación física a estos resultados."
   ]
  },
  {
   "cell_type": "code",
   "execution_count": 90,
   "metadata": {},
   "outputs": [],
   "source": [
    "#solucion"
   ]
  },
  {
   "cell_type": "markdown",
   "metadata": {},
   "source": [
    "# Problema 1: Autovalores de energía "
   ]
  },
  {
   "cell_type": "markdown",
   "metadata": {},
   "source": [
    "_Referencia:_  Zetilli, Quantum Mechanics, Problema 3.6 (p. 197) \n",
    "\n",
    "Los posibles valores de energía de un sistema están dados por la ecuación de Schr&ouml;dinger \n",
    "\n",
    "$$\n",
    "\\hat{H}|\\psi\\rangle= E|\\psi\\rangle,\n",
    "$$\n",
    "\n",
    "donde $\\hat{H}$ es el hamiltoniano del sistema. Es decir, las posibles energías del sistema vienen a ser los autovalores del Hamiltoniano.\n",
    "\n",
    "Para este problema, consideremos el hamiltoniano\n",
    "\n",
    "$$\n",
    "\\hat{H} = E_0 \n",
    "\\begin{pmatrix}\n",
    "0 & i & 0 \\\\\n",
    "-i & 0 & 0 \\\\\n",
    "0 & 0 & -1\n",
    "\\end{pmatrix}\n",
    "$$\n",
    "\n",
    "1. Definir el hamiltoniano $\\hat{H}$.\n",
    "2. Verificar que el hamiltoniano es hermítico\n",
    "$$\n",
    "\\hat{H} = \\hat{H}^\\dagger\n",
    "$$\n",
    "3. Hallar los posibles valores de energía del sistema.\n",
    "4. Hallar los autovectores de $\\hat{H}$ y verificar para uno de estos que se cumple la ecuación de Schr&ouml;dinger.\n",
    "\n",
    "Consideremos ahora que nuestro sistema se encuentra inicialmente en un estado\n",
    "\n",
    "$$\n",
    "|\\psi_0 \\rangle = \\frac{1}{\\sqrt{5}}\n",
    "\\begin{pmatrix}\n",
    "1 - i \\\\\n",
    "1 - i \\\\\n",
    "1\n",
    "\\end{pmatrix}\n",
    "$$\n",
    "\n",
    "donde cada componente del vector indica la amplitud de probabilidad de medir cada valor de energía.\n",
    "\n",
    "El valor esperado de la energía para un sistema dado está definido como\n",
    "\n",
    "$$\n",
    "\\langle E \\rangle = \\langle \\psi_0|\\hat{H}|\\psi_0 \\rangle \n",
    "$$\n",
    "\n",
    "donde el bra $\\langle \\psi_0|$ es la adjunta del ket $|\\psi_0 \\rangle$.\n",
    "\n",
    "5. Verificar que el estado $|\\psi_0\\rangle $ esta normalizado\n",
    "$$\n",
    "\\langle \\psi_0|\\psi_0 \\rangle  = 1\n",
    "$$\n",
    "6. Hallar el valor esperado de la energía para el sistema. _Nota:_ esto se puede calcular como una multiplicación de matrices."
   ]
  },
  {
   "cell_type": "markdown",
   "metadata": {},
   "source": [
    "# Matrices númericas"
   ]
  },
  {
   "cell_type": "markdown",
   "metadata": {},
   "source": [
    "Para definir una matriz de manera numérica usamos el paquete $\\texttt{numpy}$. En este paquete, las matrices (así como cualquier otro arreglo de números) se definen usando el comando $\\texttt{array}$."
   ]
  },
  {
   "cell_type": "code",
   "execution_count": 97,
   "metadata": {},
   "outputs": [],
   "source": [
    "import numpy as np"
   ]
  },
  {
   "cell_type": "code",
   "execution_count": 126,
   "metadata": {},
   "outputs": [
    {
     "data": {
      "text/plain": [
       "array([[-2, -4,  2],\n",
       "       [-2,  1,  2],\n",
       "       [ 4,  2,  5]])"
      ]
     },
     "execution_count": 126,
     "metadata": {},
     "output_type": "execute_result"
    }
   ],
   "source": [
    "A_num = np.array([[-2, -4, 2], \n",
    "                  [-2, 1, 2],\n",
    "                  [4, 2, 5]])\n",
    "\n",
    "A_num"
   ]
  },
  {
   "cell_type": "code",
   "execution_count": 114,
   "metadata": {},
   "outputs": [
    {
     "data": {
      "text/plain": [
       "array([[ 1,  4,  3],\n",
       "       [ 0, -1,  2],\n",
       "       [ 1,  2,  5]])"
      ]
     },
     "execution_count": 114,
     "metadata": {},
     "output_type": "execute_result"
    }
   ],
   "source": [
    "B_num = np.array([[1, 4, 3],\n",
    "                  [0, -1, 2], \n",
    "                  [1, 2, 5]])\n",
    "\n",
    "B_num"
   ]
  },
  {
   "cell_type": "markdown",
   "metadata": {},
   "source": [
    "Todas las operaciones algebraicas que se realizaron en $\\texttt{sympy}$, también se pueden realizar en $\\texttt{numpy}$."
   ]
  },
  {
   "cell_type": "code",
   "execution_count": 115,
   "metadata": {},
   "outputs": [
    {
     "data": {
      "text/plain": [
       "array([[-1,  0,  5],\n",
       "       [-2,  0,  4],\n",
       "       [ 5,  4, 10]])"
      ]
     },
     "execution_count": 115,
     "metadata": {},
     "output_type": "execute_result"
    }
   ],
   "source": [
    "A_num + B_num"
   ]
  },
  {
   "cell_type": "markdown",
   "metadata": {},
   "source": [
    "Hay q tener cuidado con la multiplicación. Si multiplicamos las matrices de la misma manera que en $\\texttt{sympy}$, esta será elemento por elemento."
   ]
  },
  {
   "cell_type": "code",
   "execution_count": 122,
   "metadata": {},
   "outputs": [
    {
     "data": {
      "text/plain": [
       "array([[ -2., -16.,   6.],\n",
       "       [ -0.,  -1.,   4.],\n",
       "       [  4.,   4.,  25.]])"
      ]
     },
     "execution_count": 122,
     "metadata": {},
     "output_type": "execute_result"
    }
   ],
   "source": [
    "A_num*B_num"
   ]
  },
  {
   "cell_type": "markdown",
   "metadata": {},
   "source": [
    "Multiplicación de matrices"
   ]
  },
  {
   "cell_type": "code",
   "execution_count": 117,
   "metadata": {},
   "outputs": [
    {
     "data": {
      "text/plain": [
       "array([[ 0,  0, -4],\n",
       "       [ 0, -5,  6],\n",
       "       [ 9, 24, 41]])"
      ]
     },
     "execution_count": 117,
     "metadata": {},
     "output_type": "execute_result"
    }
   ],
   "source": [
    "np.dot(A_num, B_num)"
   ]
  },
  {
   "cell_type": "markdown",
   "metadata": {},
   "source": [
    "Para realizar las operaciones propias de las matrices como obtener la matriz adjunta o inversa, se tiene que usar el paquete $\\textt{linalg}$ que está dentro de $\\texttt{numpy}$. "
   ]
  },
  {
   "cell_type": "code",
   "execution_count": 125,
   "metadata": {},
   "outputs": [
    {
     "data": {
      "image/png": "[encoded data removed]",
      "text/latex": [
       "$\\displaystyle -90.0$"
      ],
      "text/plain": [
       "-90.0"
      ]
     },
     "execution_count": 125,
     "metadata": {},
     "output_type": "execute_result"
    }
   ],
   "source": [
    "np.linalg.det(A_num)"
   ]
  },
  {
   "cell_type": "code",
   "execution_count": 127,
   "metadata": {},
   "outputs": [
    {
     "data": {
      "text/plain": [
       "array([[-1.11111111e-02, -2.66666667e-01,  1.11111111e-01],\n",
       "       [-2.00000000e-01,  2.00000000e-01, -9.25185854e-18],\n",
       "       [ 8.88888889e-02,  1.33333333e-01,  1.11111111e-01]])"
      ]
     },
     "execution_count": 127,
     "metadata": {},
     "output_type": "execute_result"
    }
   ],
   "source": [
    "np.linalg.inv(A_num)"
   ]
  },
  {
   "cell_type": "markdown",
   "metadata": {},
   "source": [
    "Autovalores y autovectores"
   ]
  },
  {
   "cell_type": "code",
   "execution_count": 128,
   "metadata": {},
   "outputs": [
    {
     "data": {
      "text/plain": [
       "(array([-5.,  3.,  6.]), array([[ 0.81649658,  0.53452248,  0.05842062],\n",
       "        [ 0.40824829, -0.80178373,  0.35052374],\n",
       "        [-0.40824829, -0.26726124,  0.93472998]]))"
      ]
     },
     "execution_count": 128,
     "metadata": {},
     "output_type": "execute_result"
    }
   ],
   "source": [
    "np.linalg.eig(A_num)"
   ]
  },
  {
   "cell_type": "markdown",
   "metadata": {},
   "source": [
    "Los autovectores hallados están normalizados, es decir, su módulo es igual a 1."
   ]
  },
  {
   "cell_type": "markdown",
   "metadata": {},
   "source": [
    "# Problema 2: Autovalores de energía\n"
   ]
  },
  {
   "cell_type": "markdown",
   "metadata": {},
   "source": [
    "_Referencia:_ Zetilli, Quantum Mechanics, Problema 3.11 (p. 204) \n",
    "\n",
    "Al igual que en el problema 1, consideremos un sistema cuyo estado inicial y hamiltoniano son respectivamente\n",
    "\n",
    "$$\n",
    "|\\psi_0 \\rangle = \\frac{1}{5}\n",
    "\\begin{pmatrix}\n",
    "3 \\\\\n",
    "0 \\\\\n",
    "4\n",
    "\\end{pmatrix} \n",
    "\\quad\n",
    "\\hat{H} = \n",
    "\\begin{pmatrix}\n",
    "3 & 0 & 0 \\\\\n",
    "0 & 0 & 5 \\\\\n",
    "0 & 5 & 0\n",
    "\\end{pmatrix}\n",
    "$$\n",
    "\n",
    "Repetir los cálculos del problema 1, pero trabajandolo ahora de manera numérica. "
   ]
  },
  {
   "cell_type": "code",
   "execution_count": 1,
   "metadata": {},
   "outputs": [],
   "source": [
    "#solucion"
   ]
  }
 ],
 "metadata": {
  "kernelspec": {
   "display_name": "Python 3",
   "language": "python",
   "name": "python3"
  },
  "language_info": {
   "codemirror_mode": {
    "name": "ipython",
    "version": 3
   },
   "file_extension": ".py",
   "mimetype": "text/x-python",
   "name": "python",
   "nbconvert_exporter": "python",
   "pygments_lexer": "ipython3",
   "version": "3.7.3"
  }
 },
 "nbformat": 4,
 "nbformat_minor": 2
}
