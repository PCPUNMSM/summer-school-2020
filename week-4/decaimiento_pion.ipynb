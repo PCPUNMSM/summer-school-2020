{
 "cells": [
  {
   "cell_type": "markdown",
   "metadata": {},
   "source": [
    "# Decaimiento del pión"
   ]
  },
  {
   "cell_type": "code",
   "execution_count": null,
   "metadata": {},
   "outputs": [],
   "source": [
    "%matplotlib inline"
   ]
  },
  {
   "cell_type": "code",
   "execution_count": null,
   "metadata": {},
   "outputs": [],
   "source": [
    "import numpy as np\n",
    "import pandas as pd\n",
    "import matplotlib.pyplot as plt\n",
    "import scipy.stats as stats"
   ]
  },
  {
   "cell_type": "code",
   "execution_count": null,
   "metadata": {},
   "outputs": [],
   "source": [
    "from distutils.spawn import find_executable\n",
    "\n",
    "from matplotlib.font_manager import *\n",
    "from matplotlib.collections import *\n",
    "from matplotlib.patches import *\n",
    "from matplotlib.pylab import *\n",
    "from matplotlib import colors\n",
    "\n",
    "import seaborn\n",
    "\n",
    "rem = 14\n",
    "\n",
    "seaborn.set(context='notebook', style='darkgrid')\n",
    "\n",
    "ioff()\n",
    "\n",
    "rc('lines', linewidth=1)\n",
    "rc('font', family='serif')\n",
    "rc('font', size=rem)\n",
    "rc('axes', titlepad=1.500*rem)\n",
    "rc('axes', titlesize=1.728*rem)\n",
    "rc('axes', labelsize=1.200*rem)\n",
    "rc('legend', fontsize=1.000*rem)\n",
    "rc('xtick', labelsize=0.833*rem)\n",
    "rc('ytick', labelsize=0.833*rem)\n",
    "\n",
    "if find_executable('latex'):\n",
    "    rc('text', usetex=True)\n",
    "\n",
    "material_palette = {\n",
    "    -10: \"#fafafa\",\n",
    "    -9: \"#f5f5f5\",\n",
    "    -6: \"#bdbdbd\",\n",
    "    -5: \"#9e9e9e\",\n",
    "    -4: \"#757575\",\n",
    "    -1: \"#212121\",\n",
    "    0: \"#F44336\",\n",
    "    1: \"#E91E63\",\n",
    "    2: \"#9C27B0\",\n",
    "    3: \"#673AB7\",\n",
    "    4: \"#3F51B5\",\n",
    "    5: \"#2196F3\",\n",
    "    6: \"#03A9F4\",\n",
    "    7: \"#00BCD4\",\n",
    "    8: \"#009688\",\n",
    "    9: \"#4CAF50\",\n",
    "    10: \"#8BC34A\",\n",
    "    11: \"#CDDC39\",\n",
    "    12: \"#FFEB3B\",\n",
    "    13: \"#FFC107\",\n",
    "    14: \"#FF9800\",\n",
    "    15: \"#FF5722\",\n",
    "}"
   ]
  },
  {
   "cell_type": "code",
   "execution_count": null,
   "metadata": {},
   "outputs": [],
   "source": [
    "dataset = np.loadtxt(\"data/120GeV-100k.csv\", delimiter = \",\")"
   ]
  },
  {
   "cell_type": "code",
   "execution_count": null,
   "metadata": {},
   "outputs": [],
   "source": [
    "E_rndm = dataset[:,0]\n",
    "theta_pi = dataset[:,1]\n",
    "phi_pi = dataset[:,2]\n",
    "n = E_rndm.shape[0]\n",
    "n_bins = 40\n",
    "\n",
    "print(f\"Samples: {n}\")\n",
    "print(f\"No. of bins: {n_bins}\")"
   ]
  },
  {
   "cell_type": "code",
   "execution_count": null,
   "metadata": {},
   "outputs": [],
   "source": [
    "fig = figure(1, figsize=(9.75 * 1.5, 6.50 * 1.5), frameon=False)\n",
    "axs = fig.add_subplot('111', facecolor=material_palette[-9])\n",
    "\n",
    "axs.hist(E_rndm, bins=n_bins, histtype=\"step\", color=material_palette[5], range=[0, 60], label=\"120 GeV\")\n",
    "\n",
    "axs.set_xscale(\"log\")\n",
    "axs.set_xlim(1, 60)\n",
    "axs.set_xlabel(\"Energía (GeV)\")\n",
    "axs.set_xticks([1] + [x for x in range(10, 70, 10)])\n",
    "axs.set_xticklabels([\"$10^0$\"] + [\"${0} \\cdot 10^1$\".format(int(x/10)) if x/10 > 1 else \"$10^1$\" for x in range(10, 70, 10)])\n",
    "\n",
    "axs.set_yscale(\"log\")\n",
    "axs.set_ylim(10 ** 2, 10 ** 5)\n",
    "axs.set_ylabel(\"\\# de partículas\")\n",
    "axs.set_yticks([10 ** x for x in range(2, 6, 1)])\n",
    "axs.set_yticklabels([\"$10^{0}$\".format(x) for x in range(2, 6, 1)])\n",
    "\n",
    "axs.set_title(\"Decaimiento del Pión\")\n",
    "\n",
    "axs.legend(loc=0)\n",
    "axs.grid(linestyle='-', color=material_palette[-6])\n",
    "fig.tight_layout()\n",
    "show()"
   ]
  },
  {
   "cell_type": "markdown",
   "metadata": {},
   "source": [
    "### Ángulo del pión. Theta inicial del ángulo del pión"
   ]
  },
  {
   "cell_type": "code",
   "execution_count": null,
   "metadata": {},
   "outputs": [],
   "source": [
    "fig = figure(2, figsize=(9.75 * 1.5, 6.50 * 1.5), frameon=False)\n",
    "axs = fig.add_subplot('111', facecolor=material_palette[-9])\n",
    "\n",
    "axs.hist(theta_pi, bins=n_bins, histtype=\"step\", color=material_palette[5], label=\"120 GeV\")\n",
    "\n",
    "axs.set_xlim(0, np.pi)\n",
    "axs.set_xlabel(r\"$\\theta$\")\n",
    "axs.set_xticks([0.00, 0.25 * np.pi, 0.50 * np.pi, 0.75 * np.pi, 1.00 * np.pi])\n",
    "axs.set_xticklabels([\"0\", r\"$\\frac{\\pi}{4}$\", r\"$\\frac{\\pi}{2}$\", r\"$\\frac{3 \\pi}{4}$\", r\"$\\pi$\"])\n",
    "\n",
    "axs.set_ylim(0, 12 * 10 ** 4)\n",
    "axs.set_ylabel(\"\\# de partículas\")\n",
    "axs.set_yticks([x * 10 ** 4 for x in range(0, 13, 2)])\n",
    "axs.set_yticklabels([\"0\"] + [\"${0} \\cdot 10^4$\".format(x) for x in range(2, 13, 2)])\n",
    "\n",
    "axs.set_title(r\"Ángulo $\\theta$ del pión\")\n",
    "\n",
    "axs.legend(loc=0)\n",
    "axs.grid(linestyle='-', color=material_palette[-6])\n",
    "fig.tight_layout()\n",
    "show()"
   ]
  },
  {
   "cell_type": "code",
   "execution_count": null,
   "metadata": {},
   "outputs": [],
   "source": [
    "fig = figure(3, figsize=(9.75 * 1.5, 6.50 * 1.5), frameon=False)\n",
    "axs = fig.add_subplot('111', facecolor=material_palette[-9])\n",
    "\n",
    "axs.hist(phi_pi, bins=n_bins, histtype=\"step\", color=material_palette[5], label=\"120 GeV\")\n",
    "\n",
    "axs.set_xlim(0, np.pi)\n",
    "axs.set_xlabel(r\"$\\phi$\")\n",
    "axs.set_xticks([-1.00 * np.pi, -0.50 * np.pi, 0.00, 0.50 * np.pi, 1.00 * np.pi])\n",
    "axs.set_xticklabels([r\"$-\\pi$\", r\"$-\\frac{\\pi}{2}$\", \"0\", r\"$\\frac{\\pi}{2}$\", r\"$\\pi$\"])\n",
    "\n",
    "axs.set_ylim(0, 8 * 10 ** 3)\n",
    "axs.set_ylabel(\"\\# de partículas\")\n",
    "axs.set_yticks([x * 10 ** 3 for x in range(0, 9, 2)])\n",
    "axs.set_yticklabels([\"0\"] + [\"${0} \\cdot 10^3$\".format(x) for x in range(2, 9, 2)])\n",
    "\n",
    "axs.set_title(r\"Ángulo $\\phi$ del pión\")\n",
    "\n",
    "axs.legend(loc=0)\n",
    "axs.grid(linestyle='-', color=material_palette[-6])\n",
    "fig.tight_layout()\n",
    "show()"
   ]
  },
  {
   "cell_type": "code",
   "execution_count": null,
   "metadata": {},
   "outputs": [],
   "source": [
    "m_pi =0.1396  # GeV, masa del pion\n",
    "m_mu = 0.10566 # GeV, masa del muon\n",
    "\n",
    "tau_0_pi = 2.6 * 10 ** (-8)  # GeV, tiempo de vida media propio pion"
   ]
  },
  {
   "cell_type": "code",
   "execution_count": null,
   "metadata": {},
   "outputs": [],
   "source": [
    "# Equivalente a los tiempos de decaimiento de los piones\n",
    "g = E_rndm / m_pi * tau_0_pi * np.log(1 / (1 - np.random.uniform(size=(1,n))[0]))"
   ]
  },
  {
   "cell_type": "code",
   "execution_count": null,
   "metadata": {},
   "outputs": [],
   "source": [
    "fig = figure(4, figsize=(9.75 * 1.5, 6.50 * 1.5), frameon=False)\n",
    "axs = fig.add_subplot('111', facecolor=material_palette[-9])\n",
    "\n",
    "axs.hist(g, bins=n_bins, histtype=\"step\", color=material_palette[5], label=\"120 GeV\")\n",
    "\n",
    "axs.set_xscale(\"log\")\n",
    "axs.set_xlim(10 ** -6, 10 ** -3)\n",
    "axs.set_xlabel(\"g\")\n",
    "\n",
    "axs.set_yscale(\"log\")\n",
    "axs.set_ylim(10 ** -1, 10 ** 6)\n",
    "axs.set_ylabel(\"\\# de partículas\")\n",
    "\n",
    "axs.set_title(r\"Tiempo de decaimiento del pion\")\n",
    "\n",
    "axs.legend(loc=4)\n",
    "axs.grid(linestyle='-', color=material_palette[-6])\n",
    "fig.tight_layout()\n",
    "\n",
    "inset_axs = fig.add_axes([.65, .6, .3, .3])\n",
    "inset_axs.hist(g, bins=n_bins, histtype=\"step\", color=material_palette[5], label=\"120 GeV\")\n",
    "\n",
    "inset_axs.set_xscale(\"log\")\n",
    "inset_axs.set_xlim(10 ** -13, 10 ** -3)\n",
    "\n",
    "inset_axs.set_yscale(\"log\")\n",
    "inset_axs.set_ylim(10 ** -1, 10 ** 6)\n",
    "\n",
    "show()"
   ]
  },
  {
   "cell_type": "markdown",
   "metadata": {},
   "source": [
    "### Velocidad del pión"
   ]
  },
  {
   "cell_type": "code",
   "execution_count": null,
   "metadata": {},
   "outputs": [],
   "source": [
    "v = np.sqrt(1 - m_pi ** 2 / E_rndm ** 2)\n",
    "v_x = v * np.sin(theta_pi) * np.cos(phi_pi)\n",
    "v_y = v * np.sin(theta_pi) * np.sin(phi_pi)\n",
    "v_z = v * np.cos(theta_pi)\n",
    "\n",
    "d = v * g * 3e+8"
   ]
  },
  {
   "cell_type": "code",
   "execution_count": null,
   "metadata": {},
   "outputs": [],
   "source": [
    "fig = figure(5, figsize=(9.75 * 1.5, 6.50 * 1.5), frameon=False)\n",
    "axs = fig.add_subplot('111', facecolor=material_palette[-9])\n",
    "\n",
    "axs.hist(d, bins=n_bins, histtype=\"step\", range=(0, 500), color=material_palette[5], label=\"120 GeV\")\n",
    "\n",
    "axs.set_xlim(0, 500)\n",
    "axs.set_xlabel(\"d\")\n",
    "\n",
    "axs.set_ylim(0, 40 * 10 ** 3)\n",
    "axs.set_ylabel(\"\\# de partículas\")\n",
    "\n",
    "axs.set_title(r\"Distancia recorrida por el pión\")\n",
    "\n",
    "axs.legend(loc=0)\n",
    "axs.grid(linestyle='-', color=material_palette[-6])\n",
    "fig.tight_layout()\n",
    "show()"
   ]
  },
  {
   "cell_type": "markdown",
   "metadata": {},
   "source": [
    "# Centro de masa (Pre-Boosting)"
   ]
  },
  {
   "cell_type": "code",
   "execution_count": null,
   "metadata": {},
   "outputs": [],
   "source": [
    "#angulos en el centro de masa\n",
    "phi_cm=np.random.uniform(0,2*np.pi, size=(1,n))[0]\n",
    "theta_cm=np.random.uniform(0,np.pi,size=(1,n))[0]"
   ]
  },
  {
   "cell_type": "code",
   "execution_count": null,
   "metadata": {},
   "outputs": [],
   "source": [
    "plt.hist(theta_cm, bins = n_bins, histtype = 'step')\n",
    "plt.xticks([0, np.pi/2, np.pi], ('0', r'$\\frac{\\pi}{2}$', r'$\\pi$'))\n",
    "plt.xlabel(r'$\\theta_{CM}$')\n",
    "plt.ylabel('\\# de particulas')\n",
    "plt.title(r'$\\theta_{CM}$ pion')\n",
    "plt.show()"
   ]
  },
  {
   "cell_type": "code",
   "execution_count": null,
   "metadata": {},
   "outputs": [],
   "source": [
    "plt.hist(phi_cm, bins = n_bins, histtype = 'step')\n",
    "plt.xticks([0, np.pi/2, np.pi, 3*np.pi/2, 2*np.pi], ('0', r'$\\frac{\\pi}{2}$', r'$\\pi$', r'$\\frac{3\\pi}{2}$', r'$2\\pi$'))\n",
    "plt.xlabel(r'$\\phi_{CM}$')\n",
    "plt.ylabel('\\# de particulas')\n",
    "plt.yscale('log')\n",
    "plt.title(r'$\\phi_{CM}$ pion')\n",
    "plt.show()"
   ]
  },
  {
   "cell_type": "code",
   "execution_count": null,
   "metadata": {},
   "outputs": [],
   "source": [
    "#energias en el centro de masa\n",
    "Emu= (m_mu**2 + m_pi**2)/(2*m_pi) \n",
    "Ev= (m_pi**2 - m_mu**2)/(2*m_pi) "
   ]
  },
  {
   "cell_type": "code",
   "execution_count": null,
   "metadata": {},
   "outputs": [],
   "source": [
    "#modulo de momentos en el centro de masa\n",
    "p_mu = np.sqrt(Emu**2-m_mu**2) \n",
    "p_neutrino = Ev"
   ]
  },
  {
   "cell_type": "code",
   "execution_count": null,
   "metadata": {},
   "outputs": [],
   "source": [
    "#componentes del momento\n",
    "px_mu = p_mu*np.sin(theta_cm)*np.cos(phi_cm)\n",
    "py_mu = p_mu*np.sin(theta_cm)*np.sin(phi_cm)\n",
    "pz_mu = p_mu*np.cos(theta_cm)\n",
    "\n",
    "px_n = p_neutrino*np.sin(np.pi - theta_cm)*np.cos(np.pi + phi_cm)\n",
    "py_n = p_neutrino*np.sin(np.pi - theta_cm)*np.sin(np.pi + phi_cm)\n",
    "pz_n = p_neutrino*np.cos(np.pi - theta_cm)"
   ]
  },
  {
   "cell_type": "markdown",
   "metadata": {},
   "source": [
    "# Boosting"
   ]
  },
  {
   "cell_type": "code",
   "execution_count": null,
   "metadata": {},
   "outputs": [],
   "source": [
    "#boost de la energia\n",
    "E_mu_lab=(E_rndm/m_pi)*(Emu + v_x*px_mu + v_y*py_mu + v_z*pz_mu)\n",
    "E_neutrino_lab=(E_rndm/m_pi)*(Ev + v_x*px_n + v_y*py_n + v_z*pz_n)"
   ]
  },
  {
   "cell_type": "code",
   "execution_count": null,
   "metadata": {},
   "outputs": [],
   "source": [
    "px_mu_lab=px_mu -(v_x*(v_x*px_mu + v_y*py_mu + v_z*pz_mu))/(v)**2 + E_rndm/m_pi *(v_x*(v_x*px_mu + v_y*py_mu + v_z*pz_mu)/(v**2) + v_x*Emu)\n",
    "py_mu_lab=py_mu -(v_y*(v_x*px_mu + v_y*py_mu + v_z*pz_mu))/(v)**2 + E_rndm/m_pi *(v_y*(v_x*px_mu + v_y*py_mu + v_z*pz_mu)/(v**2) + v_y*Emu)\n",
    "pz_mu_lab=pz_mu -(v_z*(v_x*px_mu + v_y*py_mu + v_z*pz_mu))/(v)**2 + E_rndm/m_pi *(v_z*(v_x*px_mu + v_y*py_mu + v_z*pz_mu)/(v**2) + v_z*Emu)"
   ]
  },
  {
   "cell_type": "code",
   "execution_count": null,
   "metadata": {},
   "outputs": [],
   "source": [
    "px_neutrino_lab=px_n -(v_x*(v_x*px_n+ v_y*py_n + v_z*pz_n))/(v)**2 + E_rndm/m_pi *(v_x*(v_x*px_n+ v_y*py_n + v_z*pz_n)/(v**2) + v_x*Ev)\n",
    "py_neutrino_lab=py_n -(v_y*(v_x*px_n+ v_y*py_n + v_z*pz_n))/(v)**2 + E_rndm/m_pi *(v_y*(v_x*px_n+ v_y*py_n + v_z*pz_n)/(v**2) + v_y*Ev)\n",
    "pz_neutrino_lab=pz_n -(v_z*(v_x*px_n+ v_y*py_n + v_z*pz_n))/(v)**2 + E_rndm/m_pi *(v_z*(v_x*px_n+ v_y*py_n + v_z*pz_n)/(v**2) + v_z*Ev)"
   ]
  },
  {
   "cell_type": "code",
   "execution_count": null,
   "metadata": {},
   "outputs": [],
   "source": [
    "plt.hist(E_mu_lab, bins = n_bins, histtype=\"step\", range=(0, 60))\n",
    "plt.title('muon')\n",
    "plt.yscale('log')\n",
    "plt.show()"
   ]
  },
  {
   "cell_type": "code",
   "execution_count": null,
   "metadata": {},
   "outputs": [],
   "source": [
    "plt.hist(E_neutrino_lab, bins='auto', histtype = 'step')\n",
    "plt.title('neutrino')\n",
    "plt.yscale('log')\n",
    "plt.show()"
   ]
  },
  {
   "cell_type": "code",
   "execution_count": null,
   "metadata": {},
   "outputs": [],
   "source": [
    "plt.hist(E_rndm,bins=100)\n",
    "plt.title('pion')\n",
    "plt.yscale('log')\n",
    "plt.show()"
   ]
  },
  {
   "cell_type": "code",
   "execution_count": null,
   "metadata": {},
   "outputs": [],
   "source": [
    "from mpl_toolkits.mplot3d import axes3d\n",
    "\n",
    "fig = plt.figure()\n",
    "ax1 = fig.add_subplot(111, projection='3d')\n",
    "\n",
    "for i in range(20):\n",
    "    if d[i] < 100:\n",
    "        x_pi = [0, d[i]*np.sin(theta_pi[i])*np.cos(phi_pi[i])]\n",
    "        y_pi = [0, d[i]*np.sin(theta_pi[i])*np.sin(phi_pi[i])]\n",
    "        z_pi = [0, d[i]*np.cos(theta_pi[i])]\n",
    "\n",
    "        ax1.plot3D(x_pi,y_pi,z_pi)\n",
    "        \n",
    "        p_mu = (1/10)*np.sqrt(px_mu_lab[i]**2 + py_mu_lab[i]**2 + pz_mu_lab[i]**2)\n",
    "    \n",
    "        ax1.quiver(x_pi[1], y_pi[1], z_pi[1], px_mu_lab[i]/p_mu, py_mu_lab[i]/p_mu, pz_mu_lab[i]/p_mu)\n",
    "    \n",
    "        p_neu = (1/5)*np.sqrt(px_neutrino_lab[i]**2 + py_neutrino_lab[i]**2 + pz_neutrino_lab[i]**2)\n",
    "        \n",
    "        ax1.quiver(x_pi[1], y_pi[1], z_pi[1], px_neutrino_lab[i]/p_neu, py_neutrino_lab[i]/p_neu, pz_neutrino_lab[i]/p_neu)\n",
    "        \n",
    "        \n",
    "ax1.set_xlabel('x axis')\n",
    "ax1.set_ylabel('y axis')\n",
    "ax1.set_zlabel('z axis')\n",
    "\n",
    "plt.show()"
   ]
  },
  {
   "cell_type": "code",
   "execution_count": null,
   "metadata": {},
   "outputs": [],
   "source": [
    "from mpl_toolkits.mplot3d import axes3d\n",
    "from IPython.display import clear_output\n",
    "from IPython.display import display\n",
    "from time import sleep\n",
    "\n",
    "import gc\n",
    "\n",
    "fig = figure(6, figsize=(9.75 * 1.5, 6.50 * 1.5), frameon=False)\n",
    "axs = fig.add_subplot('111', facecolor=material_palette[-9], projection='3d')\n",
    "axs.patch.set_alpha(0)\n",
    "    \n",
    "for i in range(20):\n",
    "    if d[i] < 100:\n",
    "        x_pi = [0, d[i]*np.sin(theta_pi[i])*np.cos(phi_pi[i])]\n",
    "        y_pi = [0, d[i]*np.sin(theta_pi[i])*np.sin(phi_pi[i])]\n",
    "        z_pi = [0, d[i]*np.cos(theta_pi[i])]\n",
    "\n",
    "        axs.plot3D(x_pi,y_pi,z_pi)\n",
    "        \n",
    "        p_mu = (1/10)*np.sqrt(px_mu_lab[i]**2 + py_mu_lab[i]**2 + pz_mu_lab[i]**2)\n",
    "    \n",
    "        axs.quiver(x_pi[1], y_pi[1], z_pi[1], px_mu_lab[i]/p_mu, py_mu_lab[i]/p_mu, pz_mu_lab[i]/p_mu)\n",
    "    \n",
    "        p_neu = (1/5)*np.sqrt(px_neutrino_lab[i]**2 + py_neutrino_lab[i]**2 + pz_neutrino_lab[i]**2)\n",
    "        \n",
    "        axs.quiver(x_pi[1], y_pi[1], z_pi[1], px_neutrino_lab[i]/p_neu, py_neutrino_lab[i]/p_neu, pz_neutrino_lab[i]/p_neu)\n",
    "        \n",
    "axs.set_xlabel(\"X\")\n",
    "axs.set_xlim([-30, 30])\n",
    "\n",
    "axs.set_ylabel(\"Y\")\n",
    "axs.set_ylim([-5, 5])\n",
    "\n",
    "axs.set_zlabel(\"Z\")\n",
    "axs.set_zlim([-50, 50])\n",
    "\n",
    "axs.set_title(r\"Reconstruccion\")\n",
    "axs.view_init(45, 285)\n",
    "\n",
    "show()"
   ]
  },
  {
   "cell_type": "code",
   "execution_count": null,
   "metadata": {},
   "outputs": [],
   "source": []
  }
 ],
 "metadata": {
  "kernelspec": {
   "display_name": "Python 3",
   "language": "python",
   "name": "python3"
  },
  "language_info": {
   "codemirror_mode": {
    "name": "ipython",
    "version": 3
   },
   "file_extension": ".py",
   "mimetype": "text/x-python",
   "name": "python",
   "nbconvert_exporter": "python",
   "pygments_lexer": "ipython3",
   "version": "3.6.7"
  }
 },
 "nbformat": 4,
 "nbformat_minor": 4
}
