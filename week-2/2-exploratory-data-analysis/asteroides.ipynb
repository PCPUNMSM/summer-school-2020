{
 "cells": [
  {
   "cell_type": "markdown",
   "metadata": {},
   "source": [
    "# Importando las librerías que vamos a usar"
   ]
  },
  {
   "cell_type": "code",
   "execution_count": 12,
   "metadata": {},
   "outputs": [],
   "source": [
    "#Pandas es la librería por excelencia para tratar con datos estructurados\n",
    "import pandas as pd \n",
    "#numpy es para hacer las operaciones básicas\n",
    "import numpy as np\n",
    "#Redondear los resultados 0.32\n",
    "pd.set_option(\"display.precision\", 2)"
   ]
  },
  {
   "cell_type": "code",
   "execution_count": 15,
   "metadata": {},
   "outputs": [],
   "source": [
    "#Plots estadísticos\n",
    "import seaborn as sns"
   ]
  },
  {
   "cell_type": "code",
   "execution_count": 13,
   "metadata": {},
   "outputs": [],
   "source": [
    "#Leyendo el archivo\n",
    "df= pd.read_csv(\"neos.csv\")"
   ]
  },
  {
   "cell_type": "code",
   "execution_count": 6,
   "metadata": {},
   "outputs": [
    {
     "data": {
      "text/html": [
       "<div>\n",
       "<style scoped>\n",
       "    .dataframe tbody tr th:only-of-type {\n",
       "        vertical-align: middle;\n",
       "    }\n",
       "\n",
       "    .dataframe tbody tr th {\n",
       "        vertical-align: top;\n",
       "    }\n",
       "\n",
       "    .dataframe thead th {\n",
       "        text-align: right;\n",
       "    }\n",
       "</style>\n",
       "<table border=\"1\" class=\"dataframe\">\n",
       "  <thead>\n",
       "    <tr style=\"text-align: right;\">\n",
       "      <th></th>\n",
       "      <th>Neo Reference ID</th>\n",
       "      <th>Name</th>\n",
       "      <th>Absolute Magnitude</th>\n",
       "      <th>Est Dia in KM(min)</th>\n",
       "      <th>Est Dia in KM(max)</th>\n",
       "      <th>Est Dia in M(min)</th>\n",
       "      <th>Est Dia in M(max)</th>\n",
       "      <th>Est Dia in Miles(min)</th>\n",
       "      <th>Est Dia in Miles(max)</th>\n",
       "      <th>Est Dia in Feet(min)</th>\n",
       "      <th>...</th>\n",
       "      <th>Asc Node Longitude</th>\n",
       "      <th>Orbital Period</th>\n",
       "      <th>Perihelion Distance</th>\n",
       "      <th>Perihelion Arg</th>\n",
       "      <th>Aphelion Dist</th>\n",
       "      <th>Perihelion Time</th>\n",
       "      <th>Mean Anomaly</th>\n",
       "      <th>Mean Motion</th>\n",
       "      <th>Equinox</th>\n",
       "      <th>Hazardous</th>\n",
       "    </tr>\n",
       "  </thead>\n",
       "  <tbody>\n",
       "    <tr>\n",
       "      <th>0</th>\n",
       "      <td>3703080</td>\n",
       "      <td>3703080</td>\n",
       "      <td>21.6</td>\n",
       "      <td>1.27e-01</td>\n",
       "      <td>0.28</td>\n",
       "      <td>127.22</td>\n",
       "      <td>284.47</td>\n",
       "      <td>7.91e-02</td>\n",
       "      <td>0.18</td>\n",
       "      <td>417.39</td>\n",
       "      <td>...</td>\n",
       "      <td>314.37</td>\n",
       "      <td>609.60</td>\n",
       "      <td>0.81</td>\n",
       "      <td>57.26</td>\n",
       "      <td>2.01</td>\n",
       "      <td>2.46e+06</td>\n",
       "      <td>264.84</td>\n",
       "      <td>0.59</td>\n",
       "      <td>J2000</td>\n",
       "      <td>True</td>\n",
       "    </tr>\n",
       "    <tr>\n",
       "      <th>1</th>\n",
       "      <td>3723955</td>\n",
       "      <td>3723955</td>\n",
       "      <td>21.3</td>\n",
       "      <td>1.46e-01</td>\n",
       "      <td>0.33</td>\n",
       "      <td>146.07</td>\n",
       "      <td>326.62</td>\n",
       "      <td>9.08e-02</td>\n",
       "      <td>0.20</td>\n",
       "      <td>479.23</td>\n",
       "      <td>...</td>\n",
       "      <td>136.72</td>\n",
       "      <td>425.87</td>\n",
       "      <td>0.72</td>\n",
       "      <td>313.09</td>\n",
       "      <td>1.50</td>\n",
       "      <td>2.46e+06</td>\n",
       "      <td>173.74</td>\n",
       "      <td>0.85</td>\n",
       "      <td>J2000</td>\n",
       "      <td>False</td>\n",
       "    </tr>\n",
       "    <tr>\n",
       "      <th>2</th>\n",
       "      <td>2446862</td>\n",
       "      <td>2446862</td>\n",
       "      <td>20.3</td>\n",
       "      <td>2.32e-01</td>\n",
       "      <td>0.52</td>\n",
       "      <td>231.50</td>\n",
       "      <td>517.65</td>\n",
       "      <td>1.44e-01</td>\n",
       "      <td>0.32</td>\n",
       "      <td>759.52</td>\n",
       "      <td>...</td>\n",
       "      <td>259.48</td>\n",
       "      <td>643.58</td>\n",
       "      <td>0.95</td>\n",
       "      <td>248.42</td>\n",
       "      <td>1.97</td>\n",
       "      <td>2.46e+06</td>\n",
       "      <td>292.89</td>\n",
       "      <td>0.56</td>\n",
       "      <td>J2000</td>\n",
       "      <td>True</td>\n",
       "    </tr>\n",
       "    <tr>\n",
       "      <th>3</th>\n",
       "      <td>3092506</td>\n",
       "      <td>3092506</td>\n",
       "      <td>27.4</td>\n",
       "      <td>8.80e-03</td>\n",
       "      <td>0.02</td>\n",
       "      <td>8.80</td>\n",
       "      <td>19.68</td>\n",
       "      <td>5.47e-03</td>\n",
       "      <td>0.01</td>\n",
       "      <td>28.88</td>\n",
       "      <td>...</td>\n",
       "      <td>57.17</td>\n",
       "      <td>514.08</td>\n",
       "      <td>0.98</td>\n",
       "      <td>18.71</td>\n",
       "      <td>1.53</td>\n",
       "      <td>2.46e+06</td>\n",
       "      <td>68.74</td>\n",
       "      <td>0.70</td>\n",
       "      <td>J2000</td>\n",
       "      <td>False</td>\n",
       "    </tr>\n",
       "    <tr>\n",
       "      <th>4</th>\n",
       "      <td>3514799</td>\n",
       "      <td>3514799</td>\n",
       "      <td>21.6</td>\n",
       "      <td>1.27e-01</td>\n",
       "      <td>0.28</td>\n",
       "      <td>127.22</td>\n",
       "      <td>284.47</td>\n",
       "      <td>7.91e-02</td>\n",
       "      <td>0.18</td>\n",
       "      <td>417.39</td>\n",
       "      <td>...</td>\n",
       "      <td>84.63</td>\n",
       "      <td>495.60</td>\n",
       "      <td>0.97</td>\n",
       "      <td>158.26</td>\n",
       "      <td>1.48</td>\n",
       "      <td>2.46e+06</td>\n",
       "      <td>135.14</td>\n",
       "      <td>0.73</td>\n",
       "      <td>J2000</td>\n",
       "      <td>True</td>\n",
       "    </tr>\n",
       "  </tbody>\n",
       "</table>\n",
       "<p>5 rows × 40 columns</p>\n",
       "</div>"
      ],
      "text/plain": [
       "   Neo Reference ID     Name  Absolute Magnitude  Est Dia in KM(min)  \\\n",
       "0           3703080  3703080                21.6            1.27e-01   \n",
       "1           3723955  3723955                21.3            1.46e-01   \n",
       "2           2446862  2446862                20.3            2.32e-01   \n",
       "3           3092506  3092506                27.4            8.80e-03   \n",
       "4           3514799  3514799                21.6            1.27e-01   \n",
       "\n",
       "   Est Dia in KM(max)  Est Dia in M(min)  Est Dia in M(max)  \\\n",
       "0                0.28             127.22             284.47   \n",
       "1                0.33             146.07             326.62   \n",
       "2                0.52             231.50             517.65   \n",
       "3                0.02               8.80              19.68   \n",
       "4                0.28             127.22             284.47   \n",
       "\n",
       "   Est Dia in Miles(min)  Est Dia in Miles(max)  Est Dia in Feet(min)  ...  \\\n",
       "0               7.91e-02                   0.18                417.39  ...   \n",
       "1               9.08e-02                   0.20                479.23  ...   \n",
       "2               1.44e-01                   0.32                759.52  ...   \n",
       "3               5.47e-03                   0.01                 28.88  ...   \n",
       "4               7.91e-02                   0.18                417.39  ...   \n",
       "\n",
       "   Asc Node Longitude Orbital Period  Perihelion Distance  Perihelion Arg  \\\n",
       "0              314.37         609.60                 0.81           57.26   \n",
       "1              136.72         425.87                 0.72          313.09   \n",
       "2              259.48         643.58                 0.95          248.42   \n",
       "3               57.17         514.08                 0.98           18.71   \n",
       "4               84.63         495.60                 0.97          158.26   \n",
       "\n",
       "   Aphelion Dist  Perihelion Time  Mean Anomaly  Mean Motion  Equinox  \\\n",
       "0           2.01         2.46e+06        264.84         0.59    J2000   \n",
       "1           1.50         2.46e+06        173.74         0.85    J2000   \n",
       "2           1.97         2.46e+06        292.89         0.56    J2000   \n",
       "3           1.53         2.46e+06         68.74         0.70    J2000   \n",
       "4           1.48         2.46e+06        135.14         0.73    J2000   \n",
       "\n",
       "   Hazardous  \n",
       "0       True  \n",
       "1      False  \n",
       "2       True  \n",
       "3      False  \n",
       "4       True  \n",
       "\n",
       "[5 rows x 40 columns]"
      ]
     },
     "execution_count": 6,
     "metadata": {},
     "output_type": "execute_result"
    }
   ],
   "source": [
    "df.head()"
   ]
  },
  {
   "cell_type": "code",
   "execution_count": 48,
   "metadata": {},
   "outputs": [
    {
     "name": "stdout",
     "output_type": "stream",
     "text": [
      "(4687, 40)\n"
     ]
    }
   ],
   "source": [
    "print(df.shape)"
   ]
  },
  {
   "cell_type": "code",
   "execution_count": 49,
   "metadata": {},
   "outputs": [
    {
     "name": "stdout",
     "output_type": "stream",
     "text": [
      "Index(['Neo Reference ID', 'Name', 'Absolute Magnitude', 'Est Dia in KM(min)',\n",
      "       'Est Dia in KM(max)', 'Est Dia in M(min)', 'Est Dia in M(max)',\n",
      "       'Est Dia in Miles(min)', 'Est Dia in Miles(max)',\n",
      "       'Est Dia in Feet(min)', 'Est Dia in Feet(max)', 'Close Approach Date',\n",
      "       'Epoch Date Close Approach', 'Relative Velocity km per sec',\n",
      "       'Relative Velocity km per hr', 'Miles per hour',\n",
      "       'Miss Dist.(Astronomical)', 'Miss Dist.(lunar)',\n",
      "       'Miss Dist.(kilometers)', 'Miss Dist.(miles)', 'Orbiting Body',\n",
      "       'Orbit ID', 'Orbit Determination Date', 'Orbit Uncertainity',\n",
      "       'Minimum Orbit Intersection', 'Jupiter Tisserand Invariant',\n",
      "       'Epoch Osculation', 'Eccentricity', 'Semi Major Axis', 'Inclination',\n",
      "       'Asc Node Longitude', 'Orbital Period', 'Perihelion Distance',\n",
      "       'Perihelion Arg', 'Aphelion Dist', 'Perihelion Time', 'Mean Anomaly',\n",
      "       'Mean Motion', 'Equinox', 'Hazardous'],\n",
      "      dtype='object')\n"
     ]
    }
   ],
   "source": [
    "print(df.columns)"
   ]
  },
  {
   "cell_type": "code",
   "execution_count": 50,
   "metadata": {},
   "outputs": [
    {
     "name": "stdout",
     "output_type": "stream",
     "text": [
      "<class 'pandas.core.frame.DataFrame'>\n",
      "RangeIndex: 4687 entries, 0 to 4686\n",
      "Data columns (total 40 columns):\n",
      "Neo Reference ID                4687 non-null int64\n",
      "Name                            4687 non-null int64\n",
      "Absolute Magnitude              4687 non-null float64\n",
      "Est Dia in KM(min)              4687 non-null float64\n",
      "Est Dia in KM(max)              4687 non-null float64\n",
      "Est Dia in M(min)               4687 non-null float64\n",
      "Est Dia in M(max)               4687 non-null float64\n",
      "Est Dia in Miles(min)           4687 non-null float64\n",
      "Est Dia in Miles(max)           4687 non-null float64\n",
      "Est Dia in Feet(min)            4687 non-null float64\n",
      "Est Dia in Feet(max)            4687 non-null float64\n",
      "Close Approach Date             4687 non-null object\n",
      "Epoch Date Close Approach       4687 non-null int64\n",
      "Relative Velocity km per sec    4687 non-null float64\n",
      "Relative Velocity km per hr     4687 non-null float64\n",
      "Miles per hour                  4687 non-null float64\n",
      "Miss Dist.(Astronomical)        4687 non-null float64\n",
      "Miss Dist.(lunar)               4687 non-null float64\n",
      "Miss Dist.(kilometers)          4687 non-null float64\n",
      "Miss Dist.(miles)               4687 non-null float64\n",
      "Orbiting Body                   4687 non-null object\n",
      "Orbit ID                        4687 non-null int64\n",
      "Orbit Determination Date        4687 non-null object\n",
      "Orbit Uncertainity              4687 non-null int64\n",
      "Minimum Orbit Intersection      4687 non-null float64\n",
      "Jupiter Tisserand Invariant     4687 non-null float64\n",
      "Epoch Osculation                4687 non-null float64\n",
      "Eccentricity                    4687 non-null float64\n",
      "Semi Major Axis                 4687 non-null float64\n",
      "Inclination                     4687 non-null float64\n",
      "Asc Node Longitude              4687 non-null float64\n",
      "Orbital Period                  4687 non-null float64\n",
      "Perihelion Distance             4687 non-null float64\n",
      "Perihelion Arg                  4687 non-null float64\n",
      "Aphelion Dist                   4687 non-null float64\n",
      "Perihelion Time                 4687 non-null float64\n",
      "Mean Anomaly                    4687 non-null float64\n",
      "Mean Motion                     4687 non-null float64\n",
      "Equinox                         4687 non-null object\n",
      "Hazardous                       4687 non-null bool\n",
      "dtypes: bool(1), float64(30), int64(5), object(4)\n",
      "memory usage: 1.4+ MB\n",
      "None\n"
     ]
    }
   ],
   "source": [
    "print(df.info())"
   ]
  },
  {
   "cell_type": "code",
   "execution_count": 51,
   "metadata": {},
   "outputs": [
    {
     "data": {
      "text/plain": [
       "0        True\n",
       "1       False\n",
       "2        True\n",
       "3       False\n",
       "4        True\n",
       "        ...  \n",
       "4682    False\n",
       "4683    False\n",
       "4684    False\n",
       "4685    False\n",
       "4686    False\n",
       "Name: Hazardous, Length: 4687, dtype: bool"
      ]
     },
     "execution_count": 51,
     "metadata": {},
     "output_type": "execute_result"
    }
   ],
   "source": [
    "df['Hazardous']"
   ]
  },
  {
   "cell_type": "code",
   "execution_count": 52,
   "metadata": {},
   "outputs": [
    {
     "data": {
      "text/plain": [
       "0       1\n",
       "1       0\n",
       "2       1\n",
       "3       0\n",
       "4       1\n",
       "       ..\n",
       "4682    0\n",
       "4683    0\n",
       "4684    0\n",
       "4685    0\n",
       "4686    0\n",
       "Name: Hazardous, Length: 4687, dtype: int64"
      ]
     },
     "execution_count": 52,
     "metadata": {},
     "output_type": "execute_result"
    }
   ],
   "source": [
    "df['Hazardous']=df['Hazardous'].astype('int64')\n",
    "df['Hazardous']"
   ]
  },
  {
   "cell_type": "code",
   "execution_count": 53,
   "metadata": {},
   "outputs": [
    {
     "data": {
      "text/html": [
       "<div>\n",
       "<style scoped>\n",
       "    .dataframe tbody tr th:only-of-type {\n",
       "        vertical-align: middle;\n",
       "    }\n",
       "\n",
       "    .dataframe tbody tr th {\n",
       "        vertical-align: top;\n",
       "    }\n",
       "\n",
       "    .dataframe thead th {\n",
       "        text-align: right;\n",
       "    }\n",
       "</style>\n",
       "<table border=\"1\" class=\"dataframe\">\n",
       "  <thead>\n",
       "    <tr style=\"text-align: right;\">\n",
       "      <th></th>\n",
       "      <th>Neo Reference ID</th>\n",
       "      <th>Name</th>\n",
       "      <th>Absolute Magnitude</th>\n",
       "      <th>Est Dia in KM(min)</th>\n",
       "      <th>Est Dia in KM(max)</th>\n",
       "      <th>Est Dia in M(min)</th>\n",
       "      <th>Est Dia in M(max)</th>\n",
       "      <th>Est Dia in Miles(min)</th>\n",
       "      <th>Est Dia in Miles(max)</th>\n",
       "      <th>Est Dia in Feet(min)</th>\n",
       "      <th>...</th>\n",
       "      <th>Inclination</th>\n",
       "      <th>Asc Node Longitude</th>\n",
       "      <th>Orbital Period</th>\n",
       "      <th>Perihelion Distance</th>\n",
       "      <th>Perihelion Arg</th>\n",
       "      <th>Aphelion Dist</th>\n",
       "      <th>Perihelion Time</th>\n",
       "      <th>Mean Anomaly</th>\n",
       "      <th>Mean Motion</th>\n",
       "      <th>Hazardous</th>\n",
       "    </tr>\n",
       "  </thead>\n",
       "  <tbody>\n",
       "    <tr>\n",
       "      <th>count</th>\n",
       "      <td>4.69e+03</td>\n",
       "      <td>4.69e+03</td>\n",
       "      <td>4687.00</td>\n",
       "      <td>4.69e+03</td>\n",
       "      <td>4.69e+03</td>\n",
       "      <td>4687.00</td>\n",
       "      <td>4687.00</td>\n",
       "      <td>4.69e+03</td>\n",
       "      <td>4.69e+03</td>\n",
       "      <td>4687.00</td>\n",
       "      <td>...</td>\n",
       "      <td>4687.00</td>\n",
       "      <td>4.69e+03</td>\n",
       "      <td>4687.00</td>\n",
       "      <td>4687.00</td>\n",
       "      <td>4.69e+03</td>\n",
       "      <td>4687.00</td>\n",
       "      <td>4.69e+03</td>\n",
       "      <td>4.69e+03</td>\n",
       "      <td>4687.00</td>\n",
       "      <td>4687.00</td>\n",
       "    </tr>\n",
       "    <tr>\n",
       "      <th>mean</th>\n",
       "      <td>3.27e+06</td>\n",
       "      <td>3.27e+06</td>\n",
       "      <td>22.27</td>\n",
       "      <td>2.05e-01</td>\n",
       "      <td>4.58e-01</td>\n",
       "      <td>204.60</td>\n",
       "      <td>457.51</td>\n",
       "      <td>1.27e-01</td>\n",
       "      <td>2.84e-01</td>\n",
       "      <td>671.27</td>\n",
       "      <td>...</td>\n",
       "      <td>13.37</td>\n",
       "      <td>1.72e+02</td>\n",
       "      <td>635.58</td>\n",
       "      <td>0.81</td>\n",
       "      <td>1.84e+02</td>\n",
       "      <td>1.99</td>\n",
       "      <td>2.46e+06</td>\n",
       "      <td>1.81e+02</td>\n",
       "      <td>0.74</td>\n",
       "      <td>0.16</td>\n",
       "    </tr>\n",
       "    <tr>\n",
       "      <th>std</th>\n",
       "      <td>5.49e+05</td>\n",
       "      <td>5.49e+05</td>\n",
       "      <td>2.89</td>\n",
       "      <td>3.70e-01</td>\n",
       "      <td>8.26e-01</td>\n",
       "      <td>369.57</td>\n",
       "      <td>826.39</td>\n",
       "      <td>2.30e-01</td>\n",
       "      <td>5.13e-01</td>\n",
       "      <td>1212.51</td>\n",
       "      <td>...</td>\n",
       "      <td>10.94</td>\n",
       "      <td>1.03e+02</td>\n",
       "      <td>370.95</td>\n",
       "      <td>0.24</td>\n",
       "      <td>1.04e+02</td>\n",
       "      <td>0.95</td>\n",
       "      <td>9.44e+02</td>\n",
       "      <td>1.08e+02</td>\n",
       "      <td>0.34</td>\n",
       "      <td>0.37</td>\n",
       "    </tr>\n",
       "    <tr>\n",
       "      <th>min</th>\n",
       "      <td>2.00e+06</td>\n",
       "      <td>2.00e+06</td>\n",
       "      <td>11.16</td>\n",
       "      <td>1.01e-03</td>\n",
       "      <td>2.26e-03</td>\n",
       "      <td>1.01</td>\n",
       "      <td>2.26</td>\n",
       "      <td>6.28e-04</td>\n",
       "      <td>1.40e-03</td>\n",
       "      <td>3.32</td>\n",
       "      <td>...</td>\n",
       "      <td>0.01</td>\n",
       "      <td>1.94e-03</td>\n",
       "      <td>176.56</td>\n",
       "      <td>0.08</td>\n",
       "      <td>6.92e-03</td>\n",
       "      <td>0.80</td>\n",
       "      <td>2.45e+06</td>\n",
       "      <td>3.19e-03</td>\n",
       "      <td>0.09</td>\n",
       "      <td>0.00</td>\n",
       "    </tr>\n",
       "    <tr>\n",
       "      <th>25%</th>\n",
       "      <td>3.10e+06</td>\n",
       "      <td>3.10e+06</td>\n",
       "      <td>20.10</td>\n",
       "      <td>3.35e-02</td>\n",
       "      <td>7.48e-02</td>\n",
       "      <td>33.46</td>\n",
       "      <td>74.82</td>\n",
       "      <td>2.08e-02</td>\n",
       "      <td>4.65e-02</td>\n",
       "      <td>109.78</td>\n",
       "      <td>...</td>\n",
       "      <td>4.96</td>\n",
       "      <td>8.31e+01</td>\n",
       "      <td>365.61</td>\n",
       "      <td>0.63</td>\n",
       "      <td>9.56e+01</td>\n",
       "      <td>1.27</td>\n",
       "      <td>2.46e+06</td>\n",
       "      <td>8.70e+01</td>\n",
       "      <td>0.45</td>\n",
       "      <td>0.00</td>\n",
       "    </tr>\n",
       "    <tr>\n",
       "      <th>50%</th>\n",
       "      <td>3.51e+06</td>\n",
       "      <td>3.51e+06</td>\n",
       "      <td>21.90</td>\n",
       "      <td>1.11e-01</td>\n",
       "      <td>2.48e-01</td>\n",
       "      <td>110.80</td>\n",
       "      <td>247.77</td>\n",
       "      <td>6.89e-02</td>\n",
       "      <td>1.54e-01</td>\n",
       "      <td>363.53</td>\n",
       "      <td>...</td>\n",
       "      <td>10.31</td>\n",
       "      <td>1.73e+02</td>\n",
       "      <td>504.95</td>\n",
       "      <td>0.83</td>\n",
       "      <td>1.90e+02</td>\n",
       "      <td>1.62</td>\n",
       "      <td>2.46e+06</td>\n",
       "      <td>1.86e+02</td>\n",
       "      <td>0.71</td>\n",
       "      <td>0.00</td>\n",
       "    </tr>\n",
       "    <tr>\n",
       "      <th>75%</th>\n",
       "      <td>3.69e+06</td>\n",
       "      <td>3.69e+06</td>\n",
       "      <td>24.50</td>\n",
       "      <td>2.54e-01</td>\n",
       "      <td>5.68e-01</td>\n",
       "      <td>253.84</td>\n",
       "      <td>567.60</td>\n",
       "      <td>1.58e-01</td>\n",
       "      <td>3.53e-01</td>\n",
       "      <td>832.80</td>\n",
       "      <td>...</td>\n",
       "      <td>19.51</td>\n",
       "      <td>2.55e+02</td>\n",
       "      <td>794.20</td>\n",
       "      <td>1.00</td>\n",
       "      <td>2.72e+02</td>\n",
       "      <td>2.45</td>\n",
       "      <td>2.46e+06</td>\n",
       "      <td>2.77e+02</td>\n",
       "      <td>0.98</td>\n",
       "      <td>0.00</td>\n",
       "    </tr>\n",
       "    <tr>\n",
       "      <th>max</th>\n",
       "      <td>3.78e+06</td>\n",
       "      <td>3.78e+06</td>\n",
       "      <td>32.10</td>\n",
       "      <td>1.56e+01</td>\n",
       "      <td>3.48e+01</td>\n",
       "      <td>15579.55</td>\n",
       "      <td>34836.94</td>\n",
       "      <td>9.68e+00</td>\n",
       "      <td>2.16e+01</td>\n",
       "      <td>51114.02</td>\n",
       "      <td>...</td>\n",
       "      <td>75.41</td>\n",
       "      <td>3.60e+02</td>\n",
       "      <td>4172.23</td>\n",
       "      <td>1.30</td>\n",
       "      <td>3.60e+02</td>\n",
       "      <td>8.98</td>\n",
       "      <td>2.46e+06</td>\n",
       "      <td>3.60e+02</td>\n",
       "      <td>2.04</td>\n",
       "      <td>1.00</td>\n",
       "    </tr>\n",
       "  </tbody>\n",
       "</table>\n",
       "<p>8 rows × 36 columns</p>\n",
       "</div>"
      ],
      "text/plain": [
       "       Neo Reference ID      Name  Absolute Magnitude  Est Dia in KM(min)  \\\n",
       "count          4.69e+03  4.69e+03             4687.00            4.69e+03   \n",
       "mean           3.27e+06  3.27e+06               22.27            2.05e-01   \n",
       "std            5.49e+05  5.49e+05                2.89            3.70e-01   \n",
       "min            2.00e+06  2.00e+06               11.16            1.01e-03   \n",
       "25%            3.10e+06  3.10e+06               20.10            3.35e-02   \n",
       "50%            3.51e+06  3.51e+06               21.90            1.11e-01   \n",
       "75%            3.69e+06  3.69e+06               24.50            2.54e-01   \n",
       "max            3.78e+06  3.78e+06               32.10            1.56e+01   \n",
       "\n",
       "       Est Dia in KM(max)  Est Dia in M(min)  Est Dia in M(max)  \\\n",
       "count            4.69e+03            4687.00            4687.00   \n",
       "mean             4.58e-01             204.60             457.51   \n",
       "std              8.26e-01             369.57             826.39   \n",
       "min              2.26e-03               1.01               2.26   \n",
       "25%              7.48e-02              33.46              74.82   \n",
       "50%              2.48e-01             110.80             247.77   \n",
       "75%              5.68e-01             253.84             567.60   \n",
       "max              3.48e+01           15579.55           34836.94   \n",
       "\n",
       "       Est Dia in Miles(min)  Est Dia in Miles(max)  Est Dia in Feet(min)  \\\n",
       "count               4.69e+03               4.69e+03               4687.00   \n",
       "mean                1.27e-01               2.84e-01                671.27   \n",
       "std                 2.30e-01               5.13e-01               1212.51   \n",
       "min                 6.28e-04               1.40e-03                  3.32   \n",
       "25%                 2.08e-02               4.65e-02                109.78   \n",
       "50%                 6.89e-02               1.54e-01                363.53   \n",
       "75%                 1.58e-01               3.53e-01                832.80   \n",
       "max                 9.68e+00               2.16e+01              51114.02   \n",
       "\n",
       "       ...  Inclination  Asc Node Longitude  Orbital Period  \\\n",
       "count  ...      4687.00            4.69e+03         4687.00   \n",
       "mean   ...        13.37            1.72e+02          635.58   \n",
       "std    ...        10.94            1.03e+02          370.95   \n",
       "min    ...         0.01            1.94e-03          176.56   \n",
       "25%    ...         4.96            8.31e+01          365.61   \n",
       "50%    ...        10.31            1.73e+02          504.95   \n",
       "75%    ...        19.51            2.55e+02          794.20   \n",
       "max    ...        75.41            3.60e+02         4172.23   \n",
       "\n",
       "       Perihelion Distance  Perihelion Arg  Aphelion Dist  Perihelion Time  \\\n",
       "count              4687.00        4.69e+03        4687.00         4.69e+03   \n",
       "mean                  0.81        1.84e+02           1.99         2.46e+06   \n",
       "std                   0.24        1.04e+02           0.95         9.44e+02   \n",
       "min                   0.08        6.92e-03           0.80         2.45e+06   \n",
       "25%                   0.63        9.56e+01           1.27         2.46e+06   \n",
       "50%                   0.83        1.90e+02           1.62         2.46e+06   \n",
       "75%                   1.00        2.72e+02           2.45         2.46e+06   \n",
       "max                   1.30        3.60e+02           8.98         2.46e+06   \n",
       "\n",
       "       Mean Anomaly  Mean Motion  Hazardous  \n",
       "count      4.69e+03      4687.00    4687.00  \n",
       "mean       1.81e+02         0.74       0.16  \n",
       "std        1.08e+02         0.34       0.37  \n",
       "min        3.19e-03         0.09       0.00  \n",
       "25%        8.70e+01         0.45       0.00  \n",
       "50%        1.86e+02         0.71       0.00  \n",
       "75%        2.77e+02         0.98       0.00  \n",
       "max        3.60e+02         2.04       1.00  \n",
       "\n",
       "[8 rows x 36 columns]"
      ]
     },
     "execution_count": 53,
     "metadata": {},
     "output_type": "execute_result"
    }
   ],
   "source": [
    "df.describe()"
   ]
  },
  {
   "cell_type": "code",
   "execution_count": 57,
   "metadata": {},
   "outputs": [
    {
     "data": {
      "text/plain": [
       "Index(['Close Approach Date', 'Orbiting Body', 'Orbit Determination Date',\n",
       "       'Equinox'],\n",
       "      dtype='object')"
      ]
     },
     "execution_count": 57,
     "metadata": {},
     "output_type": "execute_result"
    }
   ],
   "source": [
    "df.describe(include=['object','bool']).columns"
   ]
  },
  {
   "cell_type": "code",
   "execution_count": 62,
   "metadata": {},
   "outputs": [
    {
     "data": {
      "text/plain": [
       "Earth    4687\n",
       "Name: Orbiting Body, dtype: int64"
      ]
     },
     "execution_count": 62,
     "metadata": {},
     "output_type": "execute_result"
    }
   ],
   "source": [
    "df['Orbiting Body'].value_counts()"
   ]
  },
  {
   "cell_type": "code",
   "execution_count": 25,
   "metadata": {},
   "outputs": [
    {
     "data": {
      "text/plain": [
       "0    3932\n",
       "1     755\n",
       "Name: Hazardous, dtype: int64"
      ]
     },
     "execution_count": 25,
     "metadata": {},
     "output_type": "execute_result"
    }
   ],
   "source": [
    "df['Hazardous'].value_counts()"
   ]
  },
  {
   "cell_type": "code",
   "execution_count": 24,
   "metadata": {},
   "outputs": [
    {
     "data": {
      "text/plain": [
       "0    0.84\n",
       "1    0.16\n",
       "Name: Hazardous, dtype: float64"
      ]
     },
     "execution_count": 24,
     "metadata": {},
     "output_type": "execute_result"
    }
   ],
   "source": [
    "df['Hazardous'].value_counts(normalize=True)"
   ]
  },
  {
   "cell_type": "code",
   "execution_count": 18,
   "metadata": {},
   "outputs": [
    {
     "data": {
      "text/plain": [
       "381"
      ]
     },
     "execution_count": 18,
     "metadata": {},
     "output_type": "execute_result"
    }
   ],
   "source": [
    "755-179-174-21"
   ]
  },
  {
   "cell_type": "code",
   "execution_count": null,
   "metadata": {},
   "outputs": [],
   "source": [
    "At= 179\n",
    "Ate= 174\n",
    "Ar= 21\n",
    "Ap= \n",
    "At+Ate+Ar+Ap"
   ]
  },
  {
   "cell_type": "markdown",
   "metadata": {},
   "source": [
    "# Sorting"
   ]
  },
  {
   "cell_type": "code",
   "execution_count": 26,
   "metadata": {},
   "outputs": [
    {
     "data": {
      "text/html": [
       "<div>\n",
       "<style scoped>\n",
       "    .dataframe tbody tr th:only-of-type {\n",
       "        vertical-align: middle;\n",
       "    }\n",
       "\n",
       "    .dataframe tbody tr th {\n",
       "        vertical-align: top;\n",
       "    }\n",
       "\n",
       "    .dataframe thead th {\n",
       "        text-align: right;\n",
       "    }\n",
       "</style>\n",
       "<table border=\"1\" class=\"dataframe\">\n",
       "  <thead>\n",
       "    <tr style=\"text-align: right;\">\n",
       "      <th></th>\n",
       "      <th>Neo Reference ID</th>\n",
       "      <th>Name</th>\n",
       "      <th>Absolute Magnitude</th>\n",
       "      <th>Est Dia in KM(min)</th>\n",
       "      <th>Est Dia in KM(max)</th>\n",
       "      <th>Est Dia in M(min)</th>\n",
       "      <th>Est Dia in M(max)</th>\n",
       "      <th>Est Dia in Miles(min)</th>\n",
       "      <th>Est Dia in Miles(max)</th>\n",
       "      <th>Est Dia in Feet(min)</th>\n",
       "      <th>...</th>\n",
       "      <th>Asc Node Longitude</th>\n",
       "      <th>Orbital Period</th>\n",
       "      <th>Perihelion Distance</th>\n",
       "      <th>Perihelion Arg</th>\n",
       "      <th>Aphelion Dist</th>\n",
       "      <th>Perihelion Time</th>\n",
       "      <th>Mean Anomaly</th>\n",
       "      <th>Mean Motion</th>\n",
       "      <th>Equinox</th>\n",
       "      <th>Hazardous</th>\n",
       "    </tr>\n",
       "  </thead>\n",
       "  <tbody>\n",
       "    <tr>\n",
       "      <th>487</th>\n",
       "      <td>3781897</td>\n",
       "      <td>3781897</td>\n",
       "      <td>25.66</td>\n",
       "      <td>0.02</td>\n",
       "      <td>0.04</td>\n",
       "      <td>19.58</td>\n",
       "      <td>43.78</td>\n",
       "      <td>1.22e-02</td>\n",
       "      <td>0.03</td>\n",
       "      <td>64.23</td>\n",
       "      <td>...</td>\n",
       "      <td>182.72</td>\n",
       "      <td>366.64</td>\n",
       "      <td>0.85</td>\n",
       "      <td>71.26</td>\n",
       "      <td>1.16</td>\n",
       "      <td>2.46e+06</td>\n",
       "      <td>71.15</td>\n",
       "      <td>0.98</td>\n",
       "      <td>J2000</td>\n",
       "      <td>0</td>\n",
       "    </tr>\n",
       "    <tr>\n",
       "      <th>2755</th>\n",
       "      <td>3781897</td>\n",
       "      <td>3781897</td>\n",
       "      <td>25.66</td>\n",
       "      <td>0.02</td>\n",
       "      <td>0.04</td>\n",
       "      <td>19.58</td>\n",
       "      <td>43.78</td>\n",
       "      <td>1.22e-02</td>\n",
       "      <td>0.03</td>\n",
       "      <td>64.23</td>\n",
       "      <td>...</td>\n",
       "      <td>182.72</td>\n",
       "      <td>366.64</td>\n",
       "      <td>0.85</td>\n",
       "      <td>71.26</td>\n",
       "      <td>1.16</td>\n",
       "      <td>2.46e+06</td>\n",
       "      <td>71.15</td>\n",
       "      <td>0.98</td>\n",
       "      <td>J2000</td>\n",
       "      <td>0</td>\n",
       "    </tr>\n",
       "    <tr>\n",
       "      <th>1752</th>\n",
       "      <td>3781897</td>\n",
       "      <td>3781897</td>\n",
       "      <td>25.66</td>\n",
       "      <td>0.02</td>\n",
       "      <td>0.04</td>\n",
       "      <td>19.58</td>\n",
       "      <td>43.78</td>\n",
       "      <td>1.22e-02</td>\n",
       "      <td>0.03</td>\n",
       "      <td>64.23</td>\n",
       "      <td>...</td>\n",
       "      <td>182.72</td>\n",
       "      <td>366.64</td>\n",
       "      <td>0.85</td>\n",
       "      <td>71.26</td>\n",
       "      <td>1.16</td>\n",
       "      <td>2.46e+06</td>\n",
       "      <td>71.15</td>\n",
       "      <td>0.98</td>\n",
       "      <td>J2000</td>\n",
       "      <td>0</td>\n",
       "    </tr>\n",
       "    <tr>\n",
       "      <th>3735</th>\n",
       "      <td>3781737</td>\n",
       "      <td>3781737</td>\n",
       "      <td>27.04</td>\n",
       "      <td>0.01</td>\n",
       "      <td>0.02</td>\n",
       "      <td>10.41</td>\n",
       "      <td>23.27</td>\n",
       "      <td>6.47e-03</td>\n",
       "      <td>0.01</td>\n",
       "      <td>34.15</td>\n",
       "      <td>...</td>\n",
       "      <td>1.34</td>\n",
       "      <td>479.05</td>\n",
       "      <td>0.80</td>\n",
       "      <td>280.31</td>\n",
       "      <td>1.60</td>\n",
       "      <td>2.46e+06</td>\n",
       "      <td>28.66</td>\n",
       "      <td>0.75</td>\n",
       "      <td>J2000</td>\n",
       "      <td>0</td>\n",
       "    </tr>\n",
       "    <tr>\n",
       "      <th>4530</th>\n",
       "      <td>3781726</td>\n",
       "      <td>3781726</td>\n",
       "      <td>23.88</td>\n",
       "      <td>0.04</td>\n",
       "      <td>0.10</td>\n",
       "      <td>44.62</td>\n",
       "      <td>99.78</td>\n",
       "      <td>2.77e-02</td>\n",
       "      <td>0.06</td>\n",
       "      <td>146.40</td>\n",
       "      <td>...</td>\n",
       "      <td>177.50</td>\n",
       "      <td>376.16</td>\n",
       "      <td>0.90</td>\n",
       "      <td>38.43</td>\n",
       "      <td>1.14</td>\n",
       "      <td>2.46e+06</td>\n",
       "      <td>139.61</td>\n",
       "      <td>0.96</td>\n",
       "      <td>J2000</td>\n",
       "      <td>0</td>\n",
       "    </tr>\n",
       "  </tbody>\n",
       "</table>\n",
       "<p>5 rows × 40 columns</p>\n",
       "</div>"
      ],
      "text/plain": [
       "      Neo Reference ID     Name  Absolute Magnitude  Est Dia in KM(min)  \\\n",
       "487            3781897  3781897               25.66                0.02   \n",
       "2755           3781897  3781897               25.66                0.02   \n",
       "1752           3781897  3781897               25.66                0.02   \n",
       "3735           3781737  3781737               27.04                0.01   \n",
       "4530           3781726  3781726               23.88                0.04   \n",
       "\n",
       "      Est Dia in KM(max)  Est Dia in M(min)  Est Dia in M(max)  \\\n",
       "487                 0.04              19.58              43.78   \n",
       "2755                0.04              19.58              43.78   \n",
       "1752                0.04              19.58              43.78   \n",
       "3735                0.02              10.41              23.27   \n",
       "4530                0.10              44.62              99.78   \n",
       "\n",
       "      Est Dia in Miles(min)  Est Dia in Miles(max)  Est Dia in Feet(min)  ...  \\\n",
       "487                1.22e-02                   0.03                 64.23  ...   \n",
       "2755               1.22e-02                   0.03                 64.23  ...   \n",
       "1752               1.22e-02                   0.03                 64.23  ...   \n",
       "3735               6.47e-03                   0.01                 34.15  ...   \n",
       "4530               2.77e-02                   0.06                146.40  ...   \n",
       "\n",
       "      Asc Node Longitude Orbital Period  Perihelion Distance  Perihelion Arg  \\\n",
       "487               182.72         366.64                 0.85           71.26   \n",
       "2755              182.72         366.64                 0.85           71.26   \n",
       "1752              182.72         366.64                 0.85           71.26   \n",
       "3735                1.34         479.05                 0.80          280.31   \n",
       "4530              177.50         376.16                 0.90           38.43   \n",
       "\n",
       "      Aphelion Dist  Perihelion Time  Mean Anomaly  Mean Motion  Equinox  \\\n",
       "487            1.16         2.46e+06         71.15         0.98    J2000   \n",
       "2755           1.16         2.46e+06         71.15         0.98    J2000   \n",
       "1752           1.16         2.46e+06         71.15         0.98    J2000   \n",
       "3735           1.60         2.46e+06         28.66         0.75    J2000   \n",
       "4530           1.14         2.46e+06        139.61         0.96    J2000   \n",
       "\n",
       "      Hazardous  \n",
       "487           0  \n",
       "2755          0  \n",
       "1752          0  \n",
       "3735          0  \n",
       "4530          0  \n",
       "\n",
       "[5 rows x 40 columns]"
      ]
     },
     "execution_count": 26,
     "metadata": {},
     "output_type": "execute_result"
    }
   ],
   "source": [
    "df.sort_values(by='Neo Reference ID', ascending=False).head()"
   ]
  },
  {
   "cell_type": "code",
   "execution_count": null,
   "metadata": {},
   "outputs": [],
   "source": [
    "#Limpiar y dejar esa data con únicos valores"
   ]
  },
  {
   "cell_type": "code",
   "execution_count": 27,
   "metadata": {},
   "outputs": [
    {
     "data": {
      "text/html": [
       "<div>\n",
       "<style scoped>\n",
       "    .dataframe tbody tr th:only-of-type {\n",
       "        vertical-align: middle;\n",
       "    }\n",
       "\n",
       "    .dataframe tbody tr th {\n",
       "        vertical-align: top;\n",
       "    }\n",
       "\n",
       "    .dataframe thead th {\n",
       "        text-align: right;\n",
       "    }\n",
       "</style>\n",
       "<table border=\"1\" class=\"dataframe\">\n",
       "  <thead>\n",
       "    <tr style=\"text-align: right;\">\n",
       "      <th></th>\n",
       "      <th>Neo Reference ID</th>\n",
       "      <th>Name</th>\n",
       "      <th>Absolute Magnitude</th>\n",
       "      <th>Est Dia in KM(min)</th>\n",
       "      <th>Est Dia in KM(max)</th>\n",
       "      <th>Est Dia in M(min)</th>\n",
       "      <th>Est Dia in M(max)</th>\n",
       "      <th>Est Dia in Miles(min)</th>\n",
       "      <th>Est Dia in Miles(max)</th>\n",
       "      <th>Est Dia in Feet(min)</th>\n",
       "      <th>...</th>\n",
       "      <th>Asc Node Longitude</th>\n",
       "      <th>Orbital Period</th>\n",
       "      <th>Perihelion Distance</th>\n",
       "      <th>Perihelion Arg</th>\n",
       "      <th>Aphelion Dist</th>\n",
       "      <th>Perihelion Time</th>\n",
       "      <th>Mean Anomaly</th>\n",
       "      <th>Mean Motion</th>\n",
       "      <th>Equinox</th>\n",
       "      <th>Hazardous</th>\n",
       "    </tr>\n",
       "  </thead>\n",
       "  <tbody>\n",
       "    <tr>\n",
       "      <th>487</th>\n",
       "      <td>3781897</td>\n",
       "      <td>3781897</td>\n",
       "      <td>25.66</td>\n",
       "      <td>0.02</td>\n",
       "      <td>0.04</td>\n",
       "      <td>19.58</td>\n",
       "      <td>43.78</td>\n",
       "      <td>1.22e-02</td>\n",
       "      <td>0.03</td>\n",
       "      <td>64.23</td>\n",
       "      <td>...</td>\n",
       "      <td>182.72</td>\n",
       "      <td>366.64</td>\n",
       "      <td>0.85</td>\n",
       "      <td>71.26</td>\n",
       "      <td>1.16</td>\n",
       "      <td>2.46e+06</td>\n",
       "      <td>71.15</td>\n",
       "      <td>0.98</td>\n",
       "      <td>J2000</td>\n",
       "      <td>0</td>\n",
       "    </tr>\n",
       "    <tr>\n",
       "      <th>1752</th>\n",
       "      <td>3781897</td>\n",
       "      <td>3781897</td>\n",
       "      <td>25.66</td>\n",
       "      <td>0.02</td>\n",
       "      <td>0.04</td>\n",
       "      <td>19.58</td>\n",
       "      <td>43.78</td>\n",
       "      <td>1.22e-02</td>\n",
       "      <td>0.03</td>\n",
       "      <td>64.23</td>\n",
       "      <td>...</td>\n",
       "      <td>182.72</td>\n",
       "      <td>366.64</td>\n",
       "      <td>0.85</td>\n",
       "      <td>71.26</td>\n",
       "      <td>1.16</td>\n",
       "      <td>2.46e+06</td>\n",
       "      <td>71.15</td>\n",
       "      <td>0.98</td>\n",
       "      <td>J2000</td>\n",
       "      <td>0</td>\n",
       "    </tr>\n",
       "    <tr>\n",
       "      <th>2755</th>\n",
       "      <td>3781897</td>\n",
       "      <td>3781897</td>\n",
       "      <td>25.66</td>\n",
       "      <td>0.02</td>\n",
       "      <td>0.04</td>\n",
       "      <td>19.58</td>\n",
       "      <td>43.78</td>\n",
       "      <td>1.22e-02</td>\n",
       "      <td>0.03</td>\n",
       "      <td>64.23</td>\n",
       "      <td>...</td>\n",
       "      <td>182.72</td>\n",
       "      <td>366.64</td>\n",
       "      <td>0.85</td>\n",
       "      <td>71.26</td>\n",
       "      <td>1.16</td>\n",
       "      <td>2.46e+06</td>\n",
       "      <td>71.15</td>\n",
       "      <td>0.98</td>\n",
       "      <td>J2000</td>\n",
       "      <td>0</td>\n",
       "    </tr>\n",
       "    <tr>\n",
       "      <th>3735</th>\n",
       "      <td>3781737</td>\n",
       "      <td>3781737</td>\n",
       "      <td>27.04</td>\n",
       "      <td>0.01</td>\n",
       "      <td>0.02</td>\n",
       "      <td>10.41</td>\n",
       "      <td>23.27</td>\n",
       "      <td>6.47e-03</td>\n",
       "      <td>0.01</td>\n",
       "      <td>34.15</td>\n",
       "      <td>...</td>\n",
       "      <td>1.34</td>\n",
       "      <td>479.05</td>\n",
       "      <td>0.80</td>\n",
       "      <td>280.31</td>\n",
       "      <td>1.60</td>\n",
       "      <td>2.46e+06</td>\n",
       "      <td>28.66</td>\n",
       "      <td>0.75</td>\n",
       "      <td>J2000</td>\n",
       "      <td>0</td>\n",
       "    </tr>\n",
       "    <tr>\n",
       "      <th>4530</th>\n",
       "      <td>3781726</td>\n",
       "      <td>3781726</td>\n",
       "      <td>23.88</td>\n",
       "      <td>0.04</td>\n",
       "      <td>0.10</td>\n",
       "      <td>44.62</td>\n",
       "      <td>99.78</td>\n",
       "      <td>2.77e-02</td>\n",
       "      <td>0.06</td>\n",
       "      <td>146.40</td>\n",
       "      <td>...</td>\n",
       "      <td>177.50</td>\n",
       "      <td>376.16</td>\n",
       "      <td>0.90</td>\n",
       "      <td>38.43</td>\n",
       "      <td>1.14</td>\n",
       "      <td>2.46e+06</td>\n",
       "      <td>139.61</td>\n",
       "      <td>0.96</td>\n",
       "      <td>J2000</td>\n",
       "      <td>0</td>\n",
       "    </tr>\n",
       "  </tbody>\n",
       "</table>\n",
       "<p>5 rows × 40 columns</p>\n",
       "</div>"
      ],
      "text/plain": [
       "      Neo Reference ID     Name  Absolute Magnitude  Est Dia in KM(min)  \\\n",
       "487            3781897  3781897               25.66                0.02   \n",
       "1752           3781897  3781897               25.66                0.02   \n",
       "2755           3781897  3781897               25.66                0.02   \n",
       "3735           3781737  3781737               27.04                0.01   \n",
       "4530           3781726  3781726               23.88                0.04   \n",
       "\n",
       "      Est Dia in KM(max)  Est Dia in M(min)  Est Dia in M(max)  \\\n",
       "487                 0.04              19.58              43.78   \n",
       "1752                0.04              19.58              43.78   \n",
       "2755                0.04              19.58              43.78   \n",
       "3735                0.02              10.41              23.27   \n",
       "4530                0.10              44.62              99.78   \n",
       "\n",
       "      Est Dia in Miles(min)  Est Dia in Miles(max)  Est Dia in Feet(min)  ...  \\\n",
       "487                1.22e-02                   0.03                 64.23  ...   \n",
       "1752               1.22e-02                   0.03                 64.23  ...   \n",
       "2755               1.22e-02                   0.03                 64.23  ...   \n",
       "3735               6.47e-03                   0.01                 34.15  ...   \n",
       "4530               2.77e-02                   0.06                146.40  ...   \n",
       "\n",
       "      Asc Node Longitude Orbital Period  Perihelion Distance  Perihelion Arg  \\\n",
       "487               182.72         366.64                 0.85           71.26   \n",
       "1752              182.72         366.64                 0.85           71.26   \n",
       "2755              182.72         366.64                 0.85           71.26   \n",
       "3735                1.34         479.05                 0.80          280.31   \n",
       "4530              177.50         376.16                 0.90           38.43   \n",
       "\n",
       "      Aphelion Dist  Perihelion Time  Mean Anomaly  Mean Motion  Equinox  \\\n",
       "487            1.16         2.46e+06         71.15         0.98    J2000   \n",
       "1752           1.16         2.46e+06         71.15         0.98    J2000   \n",
       "2755           1.16         2.46e+06         71.15         0.98    J2000   \n",
       "3735           1.60         2.46e+06         28.66         0.75    J2000   \n",
       "4530           1.14         2.46e+06        139.61         0.96    J2000   \n",
       "\n",
       "      Hazardous  \n",
       "487           0  \n",
       "1752          0  \n",
       "2755          0  \n",
       "3735          0  \n",
       "4530          0  \n",
       "\n",
       "[5 rows x 40 columns]"
      ]
     },
     "execution_count": 27,
     "metadata": {},
     "output_type": "execute_result"
    }
   ],
   "source": [
    "df.sort_values(by=['Hazardous', 'Neo Reference ID'],\n",
    "              ascending=[True, False]).head()"
   ]
  },
  {
   "cell_type": "markdown",
   "metadata": {},
   "source": [
    "# Indexing and retrieving data"
   ]
  },
  {
   "cell_type": "code",
   "execution_count": 28,
   "metadata": {},
   "outputs": [
    {
     "data": {
      "text/plain": [
       "0.16108384894388736"
      ]
     },
     "execution_count": 28,
     "metadata": {},
     "output_type": "execute_result"
    }
   ],
   "source": [
    "df['Hazardous'].mean()"
   ]
  },
  {
   "cell_type": "code",
   "execution_count": 29,
   "metadata": {},
   "outputs": [
    {
     "data": {
      "text/plain": [
       "Neo Reference ID                2.94e+06\n",
       "Name                            2.94e+06\n",
       "Absolute Magnitude              2.01e+01\n",
       "Est Dia in KM(min)              3.16e-01\n",
       "Est Dia in KM(max)              7.07e-01\n",
       "Est Dia in M(min)               3.16e+02\n",
       "Est Dia in M(max)               7.07e+02\n",
       "Est Dia in Miles(min)           1.97e-01\n",
       "Est Dia in Miles(max)           4.39e-01\n",
       "Est Dia in Feet(min)            1.04e+03\n",
       "Est Dia in Feet(max)            2.32e+03\n",
       "Epoch Date Close Approach       1.14e+12\n",
       "Relative Velocity km per sec    1.72e+01\n",
       "Relative Velocity km per hr     6.18e+04\n",
       "Miles per hour                  3.84e+04\n",
       "Miss Dist.(Astronomical)        2.68e-01\n",
       "Miss Dist.(lunar)               1.04e+02\n",
       "Miss Dist.(kilometers)          4.00e+07\n",
       "Miss Dist.(miles)               2.49e+07\n",
       "Orbit ID                        4.99e+01\n",
       "Orbit Uncertainity              1.21e+00\n",
       "Minimum Orbit Intersection      2.28e-02\n",
       "Jupiter Tisserand Invariant     5.05e+00\n",
       "Epoch Osculation                2.46e+06\n",
       "Eccentricity                    4.58e-01\n",
       "Semi Major Axis                 1.39e+00\n",
       "Inclination                     1.36e+01\n",
       "Asc Node Longitude              1.76e+02\n",
       "Orbital Period                  6.26e+02\n",
       "Perihelion Distance             6.99e-01\n",
       "Perihelion Arg                  1.83e+02\n",
       "Aphelion Dist                   2.08e+00\n",
       "Perihelion Time                 2.46e+06\n",
       "Mean Anomaly                    1.94e+02\n",
       "Mean Motion                     7.48e-01\n",
       "Hazardous                       1.00e+00\n",
       "dtype: float64"
      ]
     },
     "execution_count": 29,
     "metadata": {},
     "output_type": "execute_result"
    }
   ],
   "source": [
    "df[df['Hazardous'] == 1].mean()"
   ]
  },
  {
   "cell_type": "code",
   "execution_count": 44,
   "metadata": {},
   "outputs": [
    {
     "data": {
      "text/plain": [
       "0.458029389386396"
      ]
     },
     "execution_count": 44,
     "metadata": {},
     "output_type": "execute_result"
    }
   ],
   "source": [
    "df[df['Hazardous'] == 1]['Eccentricity'].mean()"
   ]
  },
  {
   "cell_type": "code",
   "execution_count": 67,
   "metadata": {},
   "outputs": [
    {
     "data": {
      "text/plain": [
       "pandas.core.series.Series"
      ]
     },
     "execution_count": 67,
     "metadata": {},
     "output_type": "execute_result"
    }
   ],
   "source": [
    "type(df.Eccentricity)"
   ]
  },
  {
   "cell_type": "code",
   "execution_count": 73,
   "metadata": {},
   "outputs": [],
   "source": [
    "s2=pd.Series(df['Orbital Period'].values)"
   ]
  },
  {
   "cell_type": "code",
   "execution_count": 75,
   "metadata": {},
   "outputs": [],
   "source": [
    "import matplotlib.pyplot as plt"
   ]
  },
  {
   "cell_type": "code",
   "execution_count": null,
   "metadata": {},
   "outputs": [],
   "source": []
  },
  {
   "cell_type": "code",
   "execution_count": 78,
   "metadata": {},
   "outputs": [
    {
     "data": {
      "text/plain": [
       "<matplotlib.collections.PathCollection at 0x24c49647708>"
      ]
     },
     "execution_count": 78,
     "metadata": {},
     "output_type": "execute_result"
    },
    {
     "data": {
      "image/png": "[encoded data removed]",
      "text/plain": [
       "<Figure size 432x288 with 1 Axes>"
      ]
     },
     "metadata": {
      "needs_background": "light"
     },
     "output_type": "display_data"
    }
   ],
   "source": [
    "plt.scatter(df.Eccentricity, s2, s=45, c=df.Hazardous)"
   ]
  },
  {
   "cell_type": "code",
   "execution_count": 16,
   "metadata": {},
   "outputs": [
    {
     "data": {
      "image/png": "[encoded data removed]",
      "text/plain": [
       "<Figure size 432x288 with 1 Axes>"
      ]
     },
     "metadata": {
      "needs_background": "light"
     },
     "output_type": "display_data"
    }
   ],
   "source": [
    "df.plot.scatter(x='Eccentricity', y= 'Orbital Period', c=df.Hazardous, s=50);"
   ]
  },
  {
   "cell_type": "code",
   "execution_count": 17,
   "metadata": {},
   "outputs": [
    {
     "ename": "NameError",
     "evalue": "name 'z' is not defined",
     "output_type": "error",
     "traceback": [
      "\u001b[1;31m---------------------------------------------------------------------------\u001b[0m",
      "\u001b[1;31mNameError\u001b[0m                                 Traceback (most recent call last)",
      "\u001b[1;32m<ipython-input-17-3a710d2a84f8>\u001b[0m in \u001b[0;36m<module>\u001b[1;34m\u001b[0m\n\u001b[1;32m----> 1\u001b[1;33m \u001b[0mz\u001b[0m\u001b[1;33m\u001b[0m\u001b[1;33m\u001b[0m\u001b[0m\n\u001b[0m",
      "\u001b[1;31mNameError\u001b[0m: name 'z' is not defined"
     ]
    }
   ],
   "source": [
    "z"
   ]
  },
  {
   "cell_type": "code",
   "execution_count": 2,
   "metadata": {},
   "outputs": [],
   "source": [
    "import seaborn as sns"
   ]
  },
  {
   "cell_type": "code",
   "execution_count": null,
   "metadata": {},
   "outputs": [],
   "source": [
    "numerical = list(set(df.columns) - \n",
    "                 set(['Close Approach Date', 'Orbiting Body', 'Orbit Determination Date',\n",
    "       'Equinox']))"
   ]
  },
  {
   "cell_type": "code",
   "execution_count": null,
   "metadata": {},
   "outputs": [],
   "source": [
    "numerical = list(set(numerical))\n",
    "%config InlineBackend.figure_format = 'png'\n",
    "sns.pairplot(df[numerical]);"
   ]
  },
  {
   "cell_type": "code",
   "execution_count": null,
   "metadata": {},
   "outputs": [],
   "source": [
    "from pandas_profiling import ProfileReport"
   ]
  },
  {
   "cell_type": "code",
   "execution_count": null,
   "metadata": {},
   "outputs": [],
   "source": [
    "profile = ProfileReport(df, title='Pandas Profiling Report', html={'style':{'full_width':True}})"
   ]
  },
  {
   "cell_type": "code",
   "execution_count": null,
   "metadata": {},
   "outputs": [],
   "source": [
    "profile"
   ]
  },
  {
   "cell_type": "code",
   "execution_count": null,
   "metadata": {},
   "outputs": [],
   "source": [
    "profile.to_file(output_file=\"asteroids.html\")"
   ]
  },
  {
   "cell_type": "code",
   "execution_count": 3,
   "metadata": {},
   "outputs": [],
   "source": [
    "# some imports to set up plotting \n",
    "import matplotlib.pyplot as plt\n",
    "# pip install seaborn \n",
    "import seaborn as sns"
   ]
  },
  {
   "cell_type": "code",
   "execution_count": 7,
   "metadata": {},
   "outputs": [
    {
     "data": {
      "image/png": "[encoded data removed]",
      "text/plain": [
       "<Figure size 432x288 with 1 Axes>"
      ]
     },
     "metadata": {
      "needs_background": "light"
     },
     "output_type": "display_data"
    }
   ],
   "source": [
    "sns.countplot(x='Orbital Period', hue='Hazardous', data=df);"
   ]
  },
  {
   "cell_type": "code",
   "execution_count": 9,
   "metadata": {},
   "outputs": [
    {
     "data": {
      "text/plain": [
       "<matplotlib.axes._subplots.AxesSubplot at 0x220c02fd148>"
      ]
     },
     "execution_count": 9,
     "metadata": {},
     "output_type": "execute_result"
    },
    {
     "data": {
      "image/png": "[encoded data removed]",
      "text/plain": [
       "<Figure size 432x288 with 1 Axes>"
      ]
     },
     "metadata": {
      "needs_background": "light"
     },
     "output_type": "display_data"
    }
   ],
   "source": [
    "sns.countplot(x='Equinox', hue='Hazardous', data=df)"
   ]
  },
  {
   "cell_type": "code",
   "execution_count": 11,
   "metadata": {},
   "outputs": [
    {
     "data": {
      "text/plain": [
       "count      4687\n",
       "unique        1\n",
       "top       J2000\n",
       "freq       4687\n",
       "Name: Equinox, dtype: object"
      ]
     },
     "execution_count": 11,
     "metadata": {},
     "output_type": "execute_result"
    }
   ],
   "source": [
    "df['Equinox'].describe()"
   ]
  },
  {
   "cell_type": "code",
   "execution_count": null,
   "metadata": {},
   "outputs": [],
   "source": []
  }
 ],
 "metadata": {
  "kernelspec": {
   "display_name": "Python 3",
   "language": "python",
   "name": "python3"
  },
  "language_info": {
   "codemirror_mode": {
    "name": "ipython",
    "version": 3
   },
   "file_extension": ".py",
   "mimetype": "text/x-python",
   "name": "python",
   "nbconvert_exporter": "python",
   "pygments_lexer": "ipython3",
   "version": "3.7.3"
  }
 },
 "nbformat": 4,
 "nbformat_minor": 4
}
