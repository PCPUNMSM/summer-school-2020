{
 "cells": [
  {
   "cell_type": "markdown",
   "metadata": {},
   "source": [
    "# Relativistic kinematics"
   ]
  },
  {
   "cell_type": "markdown",
   "metadata": {},
   "source": [
    "<h3>Learning goals</h3>\n",
    "<ul>\n",
    "    <li>Relativistic kinematics.\n",
    "    <li>Standard model particles.\n",
    "</ul>"
   ]
  },
  {
   "cell_type": "markdown",
   "metadata": {},
   "source": [
    "<b>Background</b>\n",
    "\n",
    "If you know the mass of a particle, most of the time you know <i>what that particle is</i>. However, there is no way to just build a single detector that gives you the mass. You need to be clever and make use of Special relativity, specifically <a href=\"http://en.wikipedia.org/wiki/Relativistic_mechanics\">relativistic kinematics</a>.\n",
    "\n",
    "To determine the mass ($m$) of a particle you need to know the 4-momenta of the particles ($\\mathbf{P}$) that are detected after the collision: the energy ($E$), the momentum in the x direction ($p_x$), the momentum in the y direction ($p_y$), the momentum in the z direction ($p_z$).\n",
    "\n",
    "$$\\mathbf{P} = (E,p_x,p_y,p_z)$$\n",
    "\n",
    "\n",
    "\\begin{equation*} m = \\sqrt{E^2-(p_x^2+p_y^2 + p_z^2)} \\end{equation*}\n"
   ]
  },
  {
   "cell_type": "markdown",
   "metadata": {},
   "source": [
    "<b>Let's code!</b>\n",
    "\n",
    "Here is some sample code that reads in data from a small sample file from the <a href = \"https://cms.cern\">CMS experiment</a>. It loops over data from many different proton-proton collisions. \n",
    "\n",
    "If you haven't already, you will want to go through the [data model](https://github.com/particle-physics-playground/playground/blob/master/activities/codebkg_DataInterfacing.ipynb) (also included when you cloned this directory) exercise so you know how to pull out the relevant information. \n",
    "\n",
    "For each collision, you can get the 4-momenta of the jets, muons, electrons, and photons produced in these collisions. "
   ]
  },
  {
   "cell_type": "code",
   "execution_count": null,
   "metadata": {},
   "outputs": [],
   "source": [
    "%matplotlib notebook"
   ]
  },
  {
   "cell_type": "code",
   "execution_count": null,
   "metadata": {},
   "outputs": [],
   "source": [
    "import pandas as pd\n",
    "import tools.cms as cms\n",
    "import h5py\n",
    "\n",
    "filename = './data/dimuons_1000_collisions.hdf5'\n",
    "filehandler = h5py.File(filename, 'r')\n",
    "\n",
    "print(\"Keys: \")\n",
    "for i, key in enumerate(filehandler.keys(), 1):\n",
    "    print(f\"{i:>2d}. {key}\")\n",
    "\n",
    "filehandler[\"datasets_and_counters\"][()]"
   ]
  },
  {
   "cell_type": "markdown",
   "metadata": {},
   "source": [
    "<h2><font color=\"red\">Challenge!</font></h2>\n",
    "\n",
    "Copy this sample code and use it to calculate the mass of the muons. Make a histogram of this quantity. \n",
    "\n",
    "<i>Hint!</i>\n",
    "\n",
    "Make sure you do this for all the muons! Each collision can produce differing numbers of muons, so take care when you code this up."
   ]
  },
  {
   "cell_type": "markdown",
   "metadata": {},
   "source": [
    "Your histogram should look something like the following sketch, though the peak will be at different values. \n",
    "\n",
    "The value of the peak, should be the mass of the particle <a href=\"http://en.wikipedia.org/wiki/Muon\">Check your answer!</a> \n",
    "\n",
    "You should also make histograms of the energy and magnitude of momentum ($|p|$). You should see a pretty wide range of values for these, and yet the mass is a very specific number. "
   ]
  },
  {
   "cell_type": "code",
   "execution_count": null,
   "metadata": {},
   "outputs": [],
   "source": [
    "from IPython.display import Image\n",
    "Image(filename='images/muons_sketch.jpeg')"
   ]
  },
  {
   "cell_type": "code",
   "execution_count": null,
   "metadata": {},
   "outputs": [],
   "source": [
    "# Your code here"
   ]
  },
  {
   "cell_type": "markdown",
   "metadata": {},
   "source": [
    "Suppose we didn't know anything about special relativity and we tried calculating the mass from what we know about classical physics. \n",
    "\n",
    "$$KE = \\frac{1}{2}mv^2 \\qquad KE = \\frac{p^2}{2m} \\qquad m = \\frac{p^2}{2KE}$$\n",
    "\n",
    "Let's interpret the energy from the CMS data as the kinetic energy ($KE$). Use classical mechanics then to calculate the mass of the muon, given the energy/KE and the momentum. What does <b>that</b> histogram look like?\n",
    "\n",
    "*Your histogram should not look like the last one! We know that the Classical description of kinematics is not accurate for particle moving at high energies, so don't worry if the two histograms are different. That's the point!  :)*"
   ]
  },
  {
   "cell_type": "code",
   "execution_count": null,
   "metadata": {},
   "outputs": [],
   "source": [
    "# Your code here"
   ]
  },
  {
   "cell_type": "code",
   "execution_count": null,
   "metadata": {},
   "outputs": [],
   "source": []
  }
 ],
 "metadata": {
  "kernelspec": {
   "display_name": "Python 3",
   "language": "python",
   "name": "python3"
  },
  "language_info": {
   "codemirror_mode": {
    "name": "ipython",
    "version": 3
   },
   "file_extension": ".py",
   "mimetype": "text/x-python",
   "name": "python",
   "nbconvert_exporter": "python",
   "pygments_lexer": "ipython3",
   "version": "3.6.7"
  }
 },
 "nbformat": 4,
 "nbformat_minor": 4
}
