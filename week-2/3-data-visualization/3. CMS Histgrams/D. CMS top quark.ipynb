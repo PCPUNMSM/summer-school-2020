{
 "cells": [
  {
   "cell_type": "markdown",
   "metadata": {},
   "source": [
    "<b>Background</b>\n",
    "\n",
    "When a parent particle decays, it sometimes produces a spray of jets.  <a href=\"http://en.wikipedia.org/wiki/Jet_(particle_physics)\">Jets</a>  are a cone of hadrons that are produced from a collision.  You can add together the 4-momenta of the jets to find the mass of the parent particle.   \n",
    "\n",
    "$$\\mathbf{P_{\\rm parent}} = \\mathbf{P_{\\rm jet 0}} + \\mathbf{P_{\\rm jet 1}} + \\mathbf{P_{\\rm jet 2}} + ...$$"
   ]
  },
  {
   "cell_type": "markdown",
   "metadata": {},
   "source": [
    "<h2><font color=\"red\">Challenge!</font></h2>\n",
    "\n",
    "Using the same method as for the previous reconstruction activities, add the 4-vectors of the jets and determine the mass and type of the parent particle. Make a histogram of the mass. Do this for the raw data file `data.hdf5` and the top quark MC file `ttbar.hdf5` at least, but consider doing the same for all the rest of the CMS MC files to see if there is any similar structure. The process of downloading these files is discussed in the [DownloadData notebook](https://github.com/particle-physics-playground/playground/blob/master/activities/codebkg_DownloadData.ipynb). \n",
    "\n",
    "<i>Hint!</i>\n",
    "\n",
    "Make sure you do this for all the combinations of jets! Each collision can produce differing numbers of jets, find all the three combinations of jets to find the parent particle."
   ]
  },
  {
   "cell_type": "markdown",
   "metadata": {},
   "source": [
    "Your histogram should look something like the following sketch. The value of the peak should be the mass of the parent particle. <a href=\"http://en.wikipedia.org/wiki/Top_quark\">Check your answer!</a> "
   ]
  },
  {
   "cell_type": "code",
   "execution_count": null,
   "metadata": {},
   "outputs": [],
   "source": [
    "from IPython.display import Image\n",
    "Image(filename='images/discovering_sketch_B.jpeg')"
   ]
  },
  {
   "cell_type": "code",
   "execution_count": null,
   "metadata": {},
   "outputs": [],
   "source": [
    "# Your code here"
   ]
  },
  {
   "cell_type": "code",
   "execution_count": null,
   "metadata": {},
   "outputs": [],
   "source": [
    "# Your code here"
   ]
  }
 ],
 "metadata": {
  "kernelspec": {
   "display_name": "Python 3",
   "language": "python",
   "name": "python3"
  },
  "language_info": {
   "codemirror_mode": {
    "name": "ipython",
    "version": 3
   },
   "file_extension": ".py",
   "mimetype": "text/x-python",
   "name": "python",
   "nbconvert_exporter": "python",
   "pygments_lexer": "ipython3",
   "version": "3.6.7"
  }
 },
 "nbformat": 4,
 "nbformat_minor": 4
}
