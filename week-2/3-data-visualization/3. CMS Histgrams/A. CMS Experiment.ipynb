{
 "cells": [
  {
   "cell_type": "markdown",
   "metadata": {},
   "source": [
    "# What is CMS?"
   ]
  },
  {
   "cell_type": "markdown",
   "metadata": {},
   "source": [
    "<img src=\"images/cern_cms_endon.jpg\" width=\"500\"/>"
   ]
  },
  {
   "cell_type": "markdown",
   "metadata": {},
   "source": [
    "$$pp \\rightarrow \\chi \\chi$$"
   ]
  },
  {
   "cell_type": "markdown",
   "metadata": {},
   "source": [
    "The <a href=\"http://en.wikipedia.org/wiki/Compact_Muon_Solenoid\">CMS detector</a> is designed to measure the properties of particles produced in the collisions of high energy protons at the LHC. \n",
    "\n",
    "The CMS detector is made of many. many sub-detectors and when the particles are created in each proton-proton collision, they fly through these detectors and we are able to measure in which direction all these particles went."
   ]
  },
  {
   "cell_type": "markdown",
   "metadata": {},
   "source": [
    "<img src=\"images/small_cms1.png\" width=\"500\"/>"
   ]
  },
  {
   "cell_type": "markdown",
   "metadata": {},
   "source": [
    "These types of displays of the detector can be challenging to understand and at the end of the day, it's not what we scientists actually analyze. We use this information to get the electric charge, energy, and momentum of these particles, and that's about it.\n",
    "\n",
    "<b>Let's go take a look at some of <i>that</i> data!</b>"
   ]
  },
  {
   "cell_type": "markdown",
   "metadata": {},
   "source": [
    "The first step is to import some helper functions. One is to get the collisions data out of the files, and the other is to display the particles that are produced in these collisions. "
   ]
  },
  {
   "cell_type": "code",
   "execution_count": null,
   "metadata": {},
   "outputs": [],
   "source": [
    "import tools.cms as cms"
   ]
  },
  {
   "cell_type": "markdown",
   "metadata": {},
   "source": [
    "Next, we will open the file and pull out the collision data. This will return a Python list of all the collisions in that file.\n",
    "\n",
    "You can use these data to visualize individual collisions or to perform a data analysis on <i>all</i> the collisions."
   ]
  },
  {
   "cell_type": "code",
   "execution_count": null,
   "metadata": {},
   "outputs": [],
   "source": [
    "filehandler = open('./data/small_cms_test_file.dat', 'r')\n",
    "collisions = cms.get_collisions(filehandler)\n",
    "number_of_collisions = len(collisions)\n",
    "\n",
    "print(\"# of proton-proton collisions: {0}\".format(number_of_collisions))"
   ]
  },
  {
   "cell_type": "markdown",
   "metadata": {},
   "source": [
    "Let's take a look at some of these collisions!"
   ]
  },
  {
   "cell_type": "code",
   "execution_count": null,
   "metadata": {},
   "outputs": [],
   "source": [
    "%matplotlib inline"
   ]
  },
  {
   "cell_type": "code",
   "execution_count": null,
   "metadata": {},
   "outputs": [],
   "source": [
    "cms.display_collision3D(collisions[3])"
   ]
  },
  {
   "cell_type": "code",
   "execution_count": null,
   "metadata": {},
   "outputs": [],
   "source": [
    "cms.display_collision3D(collisions[3])"
   ]
  },
  {
   "cell_type": "code",
   "execution_count": null,
   "metadata": {},
   "outputs": [],
   "source": [
    "cms.display_collision3D(collisions[6])"
   ]
  },
  {
   "cell_type": "code",
   "execution_count": null,
   "metadata": {},
   "outputs": [],
   "source": [
    "# Animate - NOT WORKING RIGHT NOW...\n",
    "'''\n",
    "from IPython.display import clear_output,display\n",
    "import time\n",
    "\n",
    "fig = plt.figure(figsize=(6,4))\n",
    "\n",
    "for i in range(0,10):\n",
    "    cms.display_collision3D(collisions[i],fig=fig)\n",
    "    time.sleep(0.01)\n",
    "    clear_output(wait=True)\n",
    "    display(fig)\n",
    "    fig.clear()\n",
    "''';"
   ]
  },
  {
   "cell_type": "markdown",
   "metadata": {},
   "source": [
    "What are we looking at here?\n",
    "\n",
    "* The red lines represent the protons colliding.\n",
    "* The other lines represent particles created in the collisions. The length of these lines tell us how much momentum (or energy) they have. The colors are different particles/object.\n",
    "    * Blue - <a href=\"http://en.wikipedia.org/wiki/Muon\">muons</a>\n",
    "    * Orange - <a href=\"http://en.wikipedia.org/wiki/Jet_(particle_physics)\">jets</a>\n",
    "    * Green - <a href=\"http://en.wikipedia.org/wiki/Jet_(particle_physics)\">electrons</a>\n",
    "    * Gray - <a href=\"http://en.wikipedia.org/wiki/Photon\">photons</a> "
   ]
  },
  {
   "cell_type": "markdown",
   "metadata": {},
   "source": [
    "You can also make plots of the properties of the particles."
   ]
  },
  {
   "cell_type": "code",
   "execution_count": null,
   "metadata": {},
   "outputs": [],
   "source": [
    "energies = []\n",
    "\n",
    "for collision in collisions:\n",
    "    \n",
    "    jets,muons,electrons,photons,met = collision\n",
    "    \n",
    "    for jet in jets:\n",
    "        energy,px,py,pz,btag = jet\n",
    "        energies.append(energy)\n",
    "    \n",
    "plt.figure(figsize=(4,4))\n",
    "h = plt.hist(energies)"
   ]
  },
  {
   "cell_type": "markdown",
   "metadata": {},
   "source": [
    "So now you know how to play around with data from the CMS experiment at the Large Hadron Collider. What do you want to do next?  :)"
   ]
  },
  {
   "cell_type": "code",
   "execution_count": null,
   "metadata": {},
   "outputs": [],
   "source": []
  }
 ],
 "metadata": {
  "kernelspec": {
   "display_name": "Python 3",
   "language": "python",
   "name": "python3"
  },
  "language_info": {
   "codemirror_mode": {
    "name": "ipython",
    "version": 3
   },
   "file_extension": ".py",
   "mimetype": "text/x-python",
   "name": "python",
   "nbconvert_exporter": "python",
   "pygments_lexer": "ipython3",
   "version": "3.6.7"
  }
 },
 "nbformat": 4,
 "nbformat_minor": 4
}
